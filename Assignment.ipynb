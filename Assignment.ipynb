{
 "cells": [
  {
   "cell_type": "code",
   "execution_count": 1,
   "id": "60cd434d",
   "metadata": {},
   "outputs": [],
   "source": [
    "%load_ext autoreload\n",
    "%autoreload 2\n",
    "%matplotlib inline"
   ]
  },
  {
   "cell_type": "code",
   "execution_count": 2,
   "id": "29bb25b2",
   "metadata": {},
   "outputs": [],
   "source": [
    "import warnings\n",
    "warnings.filterwarnings('ignore')"
   ]
  },
  {
   "cell_type": "code",
   "execution_count": 3,
   "id": "3806fa9a",
   "metadata": {},
   "outputs": [],
   "source": [
    "# Loading the libraries\n",
    "import pyarrow\n",
    "import numpy as np\n",
    "import IPython, graphviz\n",
    "import pandas as pd\n",
    "import re\n",
    "import math\n",
    "import matplotlib.pyplot as plt\n",
    "import seaborn as sns\n",
    "\n",
    "from IPython.display import display\n",
    "from sklearn import metrics\n",
    "from pandas.api.types import is_string_dtype, is_numeric_dtype\n",
    "from sklearn.tree import export_graphviz, DecisionTreeClassifier\n",
    "from imblearn.over_sampling import SMOTE\n",
    "from sklearn.ensemble import AdaBoostClassifier, RandomForestClassifier\n",
    "from sklearn.linear_model import LogisticRegression\n",
    "from sklearn.svm import SVC\n",
    "from sklearn.neighbors import NearestNeighbors\n",
    "from sklearn.metrics import accuracy_score, confusion_matrix, precision_score, recall_score"
   ]
  },
  {
   "cell_type": "code",
   "execution_count": 4,
   "id": "23ca786a",
   "metadata": {},
   "outputs": [],
   "source": [
    "PATH = \"C:/Users/vkonda/Desktop/DataS/\""
   ]
  },
  {
   "cell_type": "markdown",
   "id": "5370d5a9",
   "metadata": {},
   "source": [
    " "
   ]
  },
  {
   "cell_type": "markdown",
   "id": "2d423b29",
   "metadata": {},
   "source": [
    "### Loading the data:"
   ]
  },
  {
   "cell_type": "code",
   "execution_count": 5,
   "id": "1fe184d3",
   "metadata": {},
   "outputs": [],
   "source": [
    "df_raw = pd.read_csv(f'{PATH}takehome_data.csv', low_memory=False,\n",
    "                    parse_dates=['created_at'])"
   ]
  },
  {
   "cell_type": "code",
   "execution_count": 6,
   "id": "d747a751",
   "metadata": {},
   "outputs": [
    {
     "data": {
      "text/plain": [
       "Index(['funnel_search_id', 'created_at', 'tasker_id', 'position',\n",
       "       'hourly_rate', 'num_completed_tasks', 'hired', 'category'],\n",
       "      dtype='object')"
      ]
     },
     "execution_count": 6,
     "metadata": {},
     "output_type": "execute_result"
    }
   ],
   "source": [
    "df_raw.columns"
   ]
  },
  {
   "cell_type": "code",
   "execution_count": 7,
   "id": "e5cf3b14",
   "metadata": {},
   "outputs": [
    {
     "name": "stdout",
     "output_type": "stream",
     "text": [
      "<class 'pandas.core.frame.DataFrame'>\n",
      "RangeIndex: 30000 entries, 0 to 29999\n",
      "Data columns (total 8 columns):\n",
      " #   Column               Non-Null Count  Dtype         \n",
      "---  ------               --------------  -----         \n",
      " 0   funnel_search_id     30000 non-null  object        \n",
      " 1   created_at           30000 non-null  datetime64[ns]\n",
      " 2   tasker_id            30000 non-null  int64         \n",
      " 3   position             30000 non-null  int64         \n",
      " 4   hourly_rate          30000 non-null  int64         \n",
      " 5   num_completed_tasks  30000 non-null  int64         \n",
      " 6   hired                30000 non-null  int64         \n",
      " 7   category             30000 non-null  object        \n",
      "dtypes: datetime64[ns](1), int64(5), object(2)\n",
      "memory usage: 1.8+ MB\n"
     ]
    }
   ],
   "source": [
    "df_raw.info()"
   ]
  },
  {
   "cell_type": "code",
   "execution_count": 8,
   "id": "bea1080e",
   "metadata": {},
   "outputs": [
    {
     "data": {
      "text/html": [
       "<div>\n",
       "<style scoped>\n",
       "    .dataframe tbody tr th:only-of-type {\n",
       "        vertical-align: middle;\n",
       "    }\n",
       "\n",
       "    .dataframe tbody tr th {\n",
       "        vertical-align: top;\n",
       "    }\n",
       "\n",
       "    .dataframe thead th {\n",
       "        text-align: right;\n",
       "    }\n",
       "</style>\n",
       "<table border=\"1\" class=\"dataframe\">\n",
       "  <thead>\n",
       "    <tr style=\"text-align: right;\">\n",
       "      <th></th>\n",
       "      <th>29995</th>\n",
       "      <th>29996</th>\n",
       "      <th>29997</th>\n",
       "      <th>29998</th>\n",
       "      <th>29999</th>\n",
       "    </tr>\n",
       "  </thead>\n",
       "  <tbody>\n",
       "    <tr>\n",
       "      <th>funnel_search_id</th>\n",
       "      <td>0-0-01899589-bb55-4423-80bf-cf4894256428</td>\n",
       "      <td>0-0-01899589-bb55-4423-80bf-cf4894256428</td>\n",
       "      <td>0-0-01899589-bb55-4423-80bf-cf4894256428</td>\n",
       "      <td>0-0-01899589-bb55-4423-80bf-cf4894256428</td>\n",
       "      <td>0-0-01899589-bb55-4423-80bf-cf4894256428</td>\n",
       "    </tr>\n",
       "    <tr>\n",
       "      <th>created_at</th>\n",
       "      <td>2017-09-30 23:15:00</td>\n",
       "      <td>2017-09-30 23:15:00</td>\n",
       "      <td>2017-09-30 23:15:00</td>\n",
       "      <td>2017-09-30 23:15:00</td>\n",
       "      <td>2017-09-30 23:15:00</td>\n",
       "    </tr>\n",
       "    <tr>\n",
       "      <th>tasker_id</th>\n",
       "      <td>1014157578</td>\n",
       "      <td>1009592218</td>\n",
       "      <td>1009194244</td>\n",
       "      <td>1007702812</td>\n",
       "      <td>1007341779</td>\n",
       "    </tr>\n",
       "    <tr>\n",
       "      <th>position</th>\n",
       "      <td>4</td>\n",
       "      <td>5</td>\n",
       "      <td>6</td>\n",
       "      <td>7</td>\n",
       "      <td>8</td>\n",
       "    </tr>\n",
       "    <tr>\n",
       "      <th>hourly_rate</th>\n",
       "      <td>200</td>\n",
       "      <td>155</td>\n",
       "      <td>175</td>\n",
       "      <td>150</td>\n",
       "      <td>200</td>\n",
       "    </tr>\n",
       "    <tr>\n",
       "      <th>num_completed_tasks</th>\n",
       "      <td>247</td>\n",
       "      <td>241</td>\n",
       "      <td>26</td>\n",
       "      <td>90</td>\n",
       "      <td>296</td>\n",
       "    </tr>\n",
       "    <tr>\n",
       "      <th>hired</th>\n",
       "      <td>0</td>\n",
       "      <td>0</td>\n",
       "      <td>0</td>\n",
       "      <td>1</td>\n",
       "      <td>0</td>\n",
       "    </tr>\n",
       "    <tr>\n",
       "      <th>category</th>\n",
       "      <td>Moving Help</td>\n",
       "      <td>Moving Help</td>\n",
       "      <td>Moving Help</td>\n",
       "      <td>Moving Help</td>\n",
       "      <td>Moving Help</td>\n",
       "    </tr>\n",
       "  </tbody>\n",
       "</table>\n",
       "</div>"
      ],
      "text/plain": [
       "                                                        29995  \\\n",
       "funnel_search_id     0-0-01899589-bb55-4423-80bf-cf4894256428   \n",
       "created_at                                2017-09-30 23:15:00   \n",
       "tasker_id                                          1014157578   \n",
       "position                                                    4   \n",
       "hourly_rate                                               200   \n",
       "num_completed_tasks                                       247   \n",
       "hired                                                       0   \n",
       "category                                          Moving Help   \n",
       "\n",
       "                                                        29996  \\\n",
       "funnel_search_id     0-0-01899589-bb55-4423-80bf-cf4894256428   \n",
       "created_at                                2017-09-30 23:15:00   \n",
       "tasker_id                                          1009592218   \n",
       "position                                                    5   \n",
       "hourly_rate                                               155   \n",
       "num_completed_tasks                                       241   \n",
       "hired                                                       0   \n",
       "category                                          Moving Help   \n",
       "\n",
       "                                                        29997  \\\n",
       "funnel_search_id     0-0-01899589-bb55-4423-80bf-cf4894256428   \n",
       "created_at                                2017-09-30 23:15:00   \n",
       "tasker_id                                          1009194244   \n",
       "position                                                    6   \n",
       "hourly_rate                                               175   \n",
       "num_completed_tasks                                        26   \n",
       "hired                                                       0   \n",
       "category                                          Moving Help   \n",
       "\n",
       "                                                        29998  \\\n",
       "funnel_search_id     0-0-01899589-bb55-4423-80bf-cf4894256428   \n",
       "created_at                                2017-09-30 23:15:00   \n",
       "tasker_id                                          1007702812   \n",
       "position                                                    7   \n",
       "hourly_rate                                               150   \n",
       "num_completed_tasks                                        90   \n",
       "hired                                                       1   \n",
       "category                                          Moving Help   \n",
       "\n",
       "                                                        29999  \n",
       "funnel_search_id     0-0-01899589-bb55-4423-80bf-cf4894256428  \n",
       "created_at                                2017-09-30 23:15:00  \n",
       "tasker_id                                          1007341779  \n",
       "position                                                    8  \n",
       "hourly_rate                                               200  \n",
       "num_completed_tasks                                       296  \n",
       "hired                                                       0  \n",
       "category                                          Moving Help  "
      ]
     },
     "metadata": {},
     "output_type": "display_data"
    }
   ],
   "source": [
    "def display_all(df):\n",
    "    with pd.option_context(\"display.max_rows\", 100):\n",
    "        with pd.option_context(\"display.max_columns\", 100):\n",
    "            display(df)\n",
    "            \n",
    "display_all(df_raw.tail().transpose())"
   ]
  },
  {
   "cell_type": "markdown",
   "id": "7b6aeaed",
   "metadata": {},
   "source": [
    " Looking at the dataset, Assumption is to predict what tasker is going to be hired when a customer fills out the initial requirement form at the website and then presented with available options."
   ]
  },
  {
   "cell_type": "code",
   "execution_count": 9,
   "id": "8b7a14b9",
   "metadata": {},
   "outputs": [
    {
     "data": {
      "text/plain": [
       "0    28295\n",
       "1     1705\n",
       "Name: hired, dtype: int64"
      ]
     },
     "execution_count": 9,
     "metadata": {},
     "output_type": "execute_result"
    }
   ],
   "source": [
    "#count of the Target variable\n",
    "df_raw['hired'].value_counts()"
   ]
  },
  {
   "cell_type": "markdown",
   "id": "2a65b31e",
   "metadata": {},
   "source": [
    "we can see imbalance in the dataset, so we need to do upsampling because of the difference of the classes before we train a predictive model."
   ]
  },
  {
   "cell_type": "markdown",
   "id": "f1d9f67f",
   "metadata": {},
   "source": [
    " "
   ]
  },
  {
   "cell_type": "markdown",
   "id": "bd881633",
   "metadata": {},
   "source": [
    "### Data Analysis and feature selection"
   ]
  },
  {
   "cell_type": "markdown",
   "id": "0e186ee0",
   "metadata": {},
   "source": [
    "Based on the column descrpition, moving forward with the assumption that position, hourly rate and number of completed tasks are the levers that is impacting the hire/no hire decision.\n",
    "\n",
    "Also few derived fields are added to the dataset to give more robustness to our model."
   ]
  },
  {
   "cell_type": "markdown",
   "id": "b48573ce",
   "metadata": {},
   "source": [
    "#### Hourly rate analysis"
   ]
  },
  {
   "cell_type": "code",
   "execution_count": 10,
   "id": "01067008",
   "metadata": {},
   "outputs": [
    {
     "data": {
      "text/plain": [
       "count    30000.000000\n",
       "mean        57.482533\n",
       "std         36.222860\n",
       "min         18.000000\n",
       "25%         38.000000\n",
       "50%         45.000000\n",
       "75%         60.000000\n",
       "max        290.000000\n",
       "Name: hourly_rate, dtype: float64"
      ]
     },
     "execution_count": 10,
     "metadata": {},
     "output_type": "execute_result"
    }
   ],
   "source": [
    "df_raw['hourly_rate'].describe()"
   ]
  },
  {
   "cell_type": "code",
   "execution_count": 11,
   "id": "a03f6641",
   "metadata": {},
   "outputs": [
    {
     "data": {
      "image/png": "[encoded data removed]",
      "text/plain": [
       "<Figure size 1440x432 with 1 Axes>"
      ]
     },
     "metadata": {
      "needs_background": "light"
     },
     "output_type": "display_data"
    }
   ],
   "source": [
    "pd.crosstab(df_raw['hourly_rate'], df_raw['hired']).plot(kind=\"bar\", figsize=(20,6))\n",
    "plt.title('Hire frequency for hourly rate')\n",
    "plt.xlabel('Hourly rate')\n",
    "plt.ylabel('Frequency')\n",
    "plt.show()"
   ]
  },
  {
   "cell_type": "markdown",
   "id": "b0efffc1",
   "metadata": {},
   "source": [
    "From the chart above, Hourly rate plays a role in deciding the hiring decision, we can see the lesser rates jobs shows higher hire rate than the higher rate jobs from the recommendations."
   ]
  },
  {
   "cell_type": "markdown",
   "id": "930dfccd",
   "metadata": {},
   "source": [
    "#### Position analysis"
   ]
  },
  {
   "cell_type": "code",
   "execution_count": 12,
   "id": "9cc3c26b",
   "metadata": {},
   "outputs": [
    {
     "data": {
      "text/plain": [
       "count    30000.000000\n",
       "mean         7.873600\n",
       "std          4.319442\n",
       "min          1.000000\n",
       "25%          4.000000\n",
       "50%          8.000000\n",
       "75%         12.000000\n",
       "max         15.000000\n",
       "Name: position, dtype: float64"
      ]
     },
     "execution_count": 12,
     "metadata": {},
     "output_type": "execute_result"
    }
   ],
   "source": [
    "df_raw['position'].describe()"
   ]
  },
  {
   "cell_type": "code",
   "execution_count": 13,
   "id": "a4e0b3be",
   "metadata": {},
   "outputs": [
    {
     "data": {
      "image/png": "[encoded data removed]",
      "text/plain": [
       "<Figure size 1440x432 with 1 Axes>"
      ]
     },
     "metadata": {
      "needs_background": "light"
     },
     "output_type": "display_data"
    }
   ],
   "source": [
    "pd.crosstab(df_raw['position'], df_raw['hired']).plot(kind=\"bar\", figsize=(20,6))\n",
    "plt.title('Hire frequency for Position in recommendation set')\n",
    "plt.xlabel('Position in recommendation set')\n",
    "plt.ylabel('Frequency')\n",
    "plt.show()"
   ]
  },
  {
   "cell_type": "code",
   "execution_count": 14,
   "id": "8be22b98",
   "metadata": {},
   "outputs": [
    {
     "data": {
      "image/png": "[encoded data removed]",
      "text/plain": [
       "<Figure size 432x288 with 1 Axes>"
      ]
     },
     "metadata": {
      "needs_background": "light"
     },
     "output_type": "display_data"
    }
   ],
   "source": [
    "# total hires from being in specific position in the recommendation set\n",
    "sns.barplot(df_raw['position'].value_counts().index,df_raw['position'].value_counts().values )\n",
    "plt.title('Hire frequency for Position in recommendation set')\n",
    "plt.xlabel('Position in recommendation set')\n",
    "plt.ylabel('Frequency')\n",
    "plt.show()"
   ]
  },
  {
   "cell_type": "markdown",
   "id": "1f186800",
   "metadata": {},
   "source": [
    "Placement of the tasker in the recommendation set could be the possible lever in the hiring decision, we can see majority of the hires are from the positions less than 6"
   ]
  },
  {
   "cell_type": "markdown",
   "id": "cb7a4467",
   "metadata": {},
   "source": [
    "#### Correlation analysis"
   ]
  },
  {
   "cell_type": "markdown",
   "id": "92df6df6",
   "metadata": {},
   "source": [
    "This step converts the created at date field and derives various measures from it. we are seeing if day of the week, day of the year is playing any major role in hiring decision "
   ]
  },
  {
   "cell_type": "code",
   "execution_count": 15,
   "id": "7dea1a70",
   "metadata": {},
   "outputs": [],
   "source": [
    "# passing dataframe and passing field, getattr finds looks for all fields associated with these fields\n",
    "\n",
    "def add_datepart(df, fldname):\n",
    "    fld = df[fldname]\n",
    "    targ_pre = re.sub('[Dd]ate$', '', fldname)\n",
    "    for n in ('Year', 'Month', 'Week', 'Day', 'hour', 'Dayofweek', 'Dayofyear',\n",
    "             'Is_month_end', 'Is_month_start', 'Is_quarter_end', 'Is_quarter_start',\n",
    "             'Is_year_end', 'Is_year_start'):\n",
    "        df[targ_pre+n] = getattr(fld.dt, n.lower())\n",
    "    df[targ_pre+'Elapsed'] = (fld - fld.min()).dt.days\n",
    "    df.drop(fldname, axis=1, inplace=True)"
   ]
  },
  {
   "cell_type": "code",
   "execution_count": 16,
   "id": "0a24ecd2",
   "metadata": {},
   "outputs": [],
   "source": [
    "add_datepart(df_raw, 'created_at')"
   ]
  },
  {
   "cell_type": "code",
   "execution_count": 17,
   "id": "47c22b56",
   "metadata": {},
   "outputs": [
    {
     "data": {
      "text/plain": [
       "Index(['funnel_search_id', 'tasker_id', 'position', 'hourly_rate',\n",
       "       'num_completed_tasks', 'hired', 'category', 'created_atYear',\n",
       "       'created_atMonth', 'created_atWeek', 'created_atDay', 'created_athour',\n",
       "       'created_atDayofweek', 'created_atDayofyear', 'created_atIs_month_end',\n",
       "       'created_atIs_month_start', 'created_atIs_quarter_end',\n",
       "       'created_atIs_quarter_start', 'created_atIs_year_end',\n",
       "       'created_atIs_year_start', 'created_atElapsed'],\n",
       "      dtype='object')"
      ]
     },
     "execution_count": 17,
     "metadata": {},
     "output_type": "execute_result"
    }
   ],
   "source": [
    "df_raw.columns"
   ]
  },
  {
   "cell_type": "code",
   "execution_count": 18,
   "id": "3b1c0d56",
   "metadata": {
    "scrolled": false
   },
   "outputs": [
    {
     "data": {
      "text/html": [
       "<div>\n",
       "<style scoped>\n",
       "    .dataframe tbody tr th:only-of-type {\n",
       "        vertical-align: middle;\n",
       "    }\n",
       "\n",
       "    .dataframe tbody tr th {\n",
       "        vertical-align: top;\n",
       "    }\n",
       "\n",
       "    .dataframe thead th {\n",
       "        text-align: right;\n",
       "    }\n",
       "</style>\n",
       "<table border=\"1\" class=\"dataframe\">\n",
       "  <thead>\n",
       "    <tr style=\"text-align: right;\">\n",
       "      <th></th>\n",
       "      <th>tasker_id</th>\n",
       "      <th>position</th>\n",
       "      <th>hourly_rate</th>\n",
       "      <th>num_completed_tasks</th>\n",
       "      <th>hired</th>\n",
       "      <th>created_atYear</th>\n",
       "      <th>created_atMonth</th>\n",
       "      <th>created_atWeek</th>\n",
       "      <th>created_atDay</th>\n",
       "      <th>created_athour</th>\n",
       "      <th>created_atDayofweek</th>\n",
       "      <th>created_atDayofyear</th>\n",
       "      <th>created_atIs_month_end</th>\n",
       "      <th>created_atIs_month_start</th>\n",
       "      <th>created_atIs_quarter_end</th>\n",
       "      <th>created_atIs_quarter_start</th>\n",
       "      <th>created_atIs_year_end</th>\n",
       "      <th>created_atIs_year_start</th>\n",
       "      <th>created_atElapsed</th>\n",
       "    </tr>\n",
       "  </thead>\n",
       "  <tbody>\n",
       "    <tr>\n",
       "      <th>tasker_id</th>\n",
       "      <td>1.000000</td>\n",
       "      <td>-0.039069</td>\n",
       "      <td>-0.086698</td>\n",
       "      <td>-0.313843</td>\n",
       "      <td>0.008412</td>\n",
       "      <td>NaN</td>\n",
       "      <td>NaN</td>\n",
       "      <td>0.031548</td>\n",
       "      <td>0.031486</td>\n",
       "      <td>-0.001036</td>\n",
       "      <td>-0.005160</td>\n",
       "      <td>0.031486</td>\n",
       "      <td>0.016718</td>\n",
       "      <td>0.008851</td>\n",
       "      <td>0.016718</td>\n",
       "      <td>NaN</td>\n",
       "      <td>NaN</td>\n",
       "      <td>NaN</td>\n",
       "      <td>0.031717</td>\n",
       "    </tr>\n",
       "    <tr>\n",
       "      <th>position</th>\n",
       "      <td>-0.039069</td>\n",
       "      <td>1.000000</td>\n",
       "      <td>0.140029</td>\n",
       "      <td>0.024309</td>\n",
       "      <td>-0.213608</td>\n",
       "      <td>NaN</td>\n",
       "      <td>NaN</td>\n",
       "      <td>0.003548</td>\n",
       "      <td>0.002855</td>\n",
       "      <td>-0.004467</td>\n",
       "      <td>-0.003734</td>\n",
       "      <td>0.002855</td>\n",
       "      <td>-0.005654</td>\n",
       "      <td>-0.004327</td>\n",
       "      <td>-0.005654</td>\n",
       "      <td>NaN</td>\n",
       "      <td>NaN</td>\n",
       "      <td>NaN</td>\n",
       "      <td>0.002870</td>\n",
       "    </tr>\n",
       "    <tr>\n",
       "      <th>hourly_rate</th>\n",
       "      <td>-0.086698</td>\n",
       "      <td>0.140029</td>\n",
       "      <td>1.000000</td>\n",
       "      <td>0.287258</td>\n",
       "      <td>-0.046519</td>\n",
       "      <td>NaN</td>\n",
       "      <td>NaN</td>\n",
       "      <td>0.068817</td>\n",
       "      <td>0.069686</td>\n",
       "      <td>-0.047935</td>\n",
       "      <td>-0.006643</td>\n",
       "      <td>0.069686</td>\n",
       "      <td>0.001766</td>\n",
       "      <td>0.019292</td>\n",
       "      <td>0.001766</td>\n",
       "      <td>NaN</td>\n",
       "      <td>NaN</td>\n",
       "      <td>NaN</td>\n",
       "      <td>0.069426</td>\n",
       "    </tr>\n",
       "    <tr>\n",
       "      <th>num_completed_tasks</th>\n",
       "      <td>-0.313843</td>\n",
       "      <td>0.024309</td>\n",
       "      <td>0.287258</td>\n",
       "      <td>1.000000</td>\n",
       "      <td>0.041825</td>\n",
       "      <td>NaN</td>\n",
       "      <td>NaN</td>\n",
       "      <td>0.005321</td>\n",
       "      <td>-0.001026</td>\n",
       "      <td>-0.013893</td>\n",
       "      <td>-0.029975</td>\n",
       "      <td>-0.001026</td>\n",
       "      <td>-0.032959</td>\n",
       "      <td>-0.012417</td>\n",
       "      <td>-0.032959</td>\n",
       "      <td>NaN</td>\n",
       "      <td>NaN</td>\n",
       "      <td>NaN</td>\n",
       "      <td>-0.001295</td>\n",
       "    </tr>\n",
       "    <tr>\n",
       "      <th>hired</th>\n",
       "      <td>0.008412</td>\n",
       "      <td>-0.213608</td>\n",
       "      <td>-0.046519</td>\n",
       "      <td>0.041825</td>\n",
       "      <td>1.000000</td>\n",
       "      <td>NaN</td>\n",
       "      <td>NaN</td>\n",
       "      <td>0.001493</td>\n",
       "      <td>0.001234</td>\n",
       "      <td>0.002683</td>\n",
       "      <td>-0.001419</td>\n",
       "      <td>0.001234</td>\n",
       "      <td>0.007841</td>\n",
       "      <td>-0.003075</td>\n",
       "      <td>0.007841</td>\n",
       "      <td>NaN</td>\n",
       "      <td>NaN</td>\n",
       "      <td>NaN</td>\n",
       "      <td>0.001275</td>\n",
       "    </tr>\n",
       "    <tr>\n",
       "      <th>created_atYear</th>\n",
       "      <td>NaN</td>\n",
       "      <td>NaN</td>\n",
       "      <td>NaN</td>\n",
       "      <td>NaN</td>\n",
       "      <td>NaN</td>\n",
       "      <td>NaN</td>\n",
       "      <td>NaN</td>\n",
       "      <td>NaN</td>\n",
       "      <td>NaN</td>\n",
       "      <td>NaN</td>\n",
       "      <td>NaN</td>\n",
       "      <td>NaN</td>\n",
       "      <td>NaN</td>\n",
       "      <td>NaN</td>\n",
       "      <td>NaN</td>\n",
       "      <td>NaN</td>\n",
       "      <td>NaN</td>\n",
       "      <td>NaN</td>\n",
       "      <td>NaN</td>\n",
       "    </tr>\n",
       "    <tr>\n",
       "      <th>created_atMonth</th>\n",
       "      <td>NaN</td>\n",
       "      <td>NaN</td>\n",
       "      <td>NaN</td>\n",
       "      <td>NaN</td>\n",
       "      <td>NaN</td>\n",
       "      <td>NaN</td>\n",
       "      <td>NaN</td>\n",
       "      <td>NaN</td>\n",
       "      <td>NaN</td>\n",
       "      <td>NaN</td>\n",
       "      <td>NaN</td>\n",
       "      <td>NaN</td>\n",
       "      <td>NaN</td>\n",
       "      <td>NaN</td>\n",
       "      <td>NaN</td>\n",
       "      <td>NaN</td>\n",
       "      <td>NaN</td>\n",
       "      <td>NaN</td>\n",
       "      <td>NaN</td>\n",
       "    </tr>\n",
       "    <tr>\n",
       "      <th>created_atWeek</th>\n",
       "      <td>0.031548</td>\n",
       "      <td>0.003548</td>\n",
       "      <td>0.068817</td>\n",
       "      <td>0.005321</td>\n",
       "      <td>0.001493</td>\n",
       "      <td>NaN</td>\n",
       "      <td>NaN</td>\n",
       "      <td>1.000000</td>\n",
       "      <td>0.977620</td>\n",
       "      <td>-0.046401</td>\n",
       "      <td>-0.257320</td>\n",
       "      <td>0.977620</td>\n",
       "      <td>0.207024</td>\n",
       "      <td>-0.326146</td>\n",
       "      <td>0.207024</td>\n",
       "      <td>NaN</td>\n",
       "      <td>NaN</td>\n",
       "      <td>NaN</td>\n",
       "      <td>0.977630</td>\n",
       "    </tr>\n",
       "    <tr>\n",
       "      <th>created_atDay</th>\n",
       "      <td>0.031486</td>\n",
       "      <td>0.002855</td>\n",
       "      <td>0.069686</td>\n",
       "      <td>-0.001026</td>\n",
       "      <td>0.001234</td>\n",
       "      <td>NaN</td>\n",
       "      <td>NaN</td>\n",
       "      <td>0.977620</td>\n",
       "      <td>1.000000</td>\n",
       "      <td>-0.053141</td>\n",
       "      <td>-0.048266</td>\n",
       "      <td>1.000000</td>\n",
       "      <td>0.254089</td>\n",
       "      <td>-0.313666</td>\n",
       "      <td>0.254089</td>\n",
       "      <td>NaN</td>\n",
       "      <td>NaN</td>\n",
       "      <td>NaN</td>\n",
       "      <td>0.999820</td>\n",
       "    </tr>\n",
       "    <tr>\n",
       "      <th>created_athour</th>\n",
       "      <td>-0.001036</td>\n",
       "      <td>-0.004467</td>\n",
       "      <td>-0.047935</td>\n",
       "      <td>-0.013893</td>\n",
       "      <td>0.002683</td>\n",
       "      <td>NaN</td>\n",
       "      <td>NaN</td>\n",
       "      <td>-0.046401</td>\n",
       "      <td>-0.053141</td>\n",
       "      <td>1.000000</td>\n",
       "      <td>-0.023788</td>\n",
       "      <td>-0.053141</td>\n",
       "      <td>-0.015012</td>\n",
       "      <td>0.005015</td>\n",
       "      <td>-0.015012</td>\n",
       "      <td>NaN</td>\n",
       "      <td>NaN</td>\n",
       "      <td>NaN</td>\n",
       "      <td>-0.046604</td>\n",
       "    </tr>\n",
       "    <tr>\n",
       "      <th>created_atDayofweek</th>\n",
       "      <td>-0.005160</td>\n",
       "      <td>-0.003734</td>\n",
       "      <td>-0.006643</td>\n",
       "      <td>-0.029975</td>\n",
       "      <td>-0.001419</td>\n",
       "      <td>NaN</td>\n",
       "      <td>NaN</td>\n",
       "      <td>-0.257320</td>\n",
       "      <td>-0.048266</td>\n",
       "      <td>-0.023788</td>\n",
       "      <td>1.000000</td>\n",
       "      <td>-0.048266</td>\n",
       "      <td>0.184191</td>\n",
       "      <td>0.107723</td>\n",
       "      <td>0.184191</td>\n",
       "      <td>NaN</td>\n",
       "      <td>NaN</td>\n",
       "      <td>NaN</td>\n",
       "      <td>-0.049141</td>\n",
       "    </tr>\n",
       "    <tr>\n",
       "      <th>created_atDayofyear</th>\n",
       "      <td>0.031486</td>\n",
       "      <td>0.002855</td>\n",
       "      <td>0.069686</td>\n",
       "      <td>-0.001026</td>\n",
       "      <td>0.001234</td>\n",
       "      <td>NaN</td>\n",
       "      <td>NaN</td>\n",
       "      <td>0.977620</td>\n",
       "      <td>1.000000</td>\n",
       "      <td>-0.053141</td>\n",
       "      <td>-0.048266</td>\n",
       "      <td>1.000000</td>\n",
       "      <td>0.254089</td>\n",
       "      <td>-0.313666</td>\n",
       "      <td>0.254089</td>\n",
       "      <td>NaN</td>\n",
       "      <td>NaN</td>\n",
       "      <td>NaN</td>\n",
       "      <td>0.999820</td>\n",
       "    </tr>\n",
       "    <tr>\n",
       "      <th>created_atIs_month_end</th>\n",
       "      <td>0.016718</td>\n",
       "      <td>-0.005654</td>\n",
       "      <td>0.001766</td>\n",
       "      <td>-0.032959</td>\n",
       "      <td>0.007841</td>\n",
       "      <td>NaN</td>\n",
       "      <td>NaN</td>\n",
       "      <td>0.207024</td>\n",
       "      <td>0.254089</td>\n",
       "      <td>-0.015012</td>\n",
       "      <td>0.184191</td>\n",
       "      <td>0.254089</td>\n",
       "      <td>1.000000</td>\n",
       "      <td>-0.028575</td>\n",
       "      <td>1.000000</td>\n",
       "      <td>NaN</td>\n",
       "      <td>NaN</td>\n",
       "      <td>NaN</td>\n",
       "      <td>0.254008</td>\n",
       "    </tr>\n",
       "    <tr>\n",
       "      <th>created_atIs_month_start</th>\n",
       "      <td>0.008851</td>\n",
       "      <td>-0.004327</td>\n",
       "      <td>0.019292</td>\n",
       "      <td>-0.012417</td>\n",
       "      <td>-0.003075</td>\n",
       "      <td>NaN</td>\n",
       "      <td>NaN</td>\n",
       "      <td>-0.326146</td>\n",
       "      <td>-0.313666</td>\n",
       "      <td>0.005015</td>\n",
       "      <td>0.107723</td>\n",
       "      <td>-0.313666</td>\n",
       "      <td>-0.028575</td>\n",
       "      <td>1.000000</td>\n",
       "      <td>-0.028575</td>\n",
       "      <td>NaN</td>\n",
       "      <td>NaN</td>\n",
       "      <td>NaN</td>\n",
       "      <td>-0.313232</td>\n",
       "    </tr>\n",
       "    <tr>\n",
       "      <th>created_atIs_quarter_end</th>\n",
       "      <td>0.016718</td>\n",
       "      <td>-0.005654</td>\n",
       "      <td>0.001766</td>\n",
       "      <td>-0.032959</td>\n",
       "      <td>0.007841</td>\n",
       "      <td>NaN</td>\n",
       "      <td>NaN</td>\n",
       "      <td>0.207024</td>\n",
       "      <td>0.254089</td>\n",
       "      <td>-0.015012</td>\n",
       "      <td>0.184191</td>\n",
       "      <td>0.254089</td>\n",
       "      <td>1.000000</td>\n",
       "      <td>-0.028575</td>\n",
       "      <td>1.000000</td>\n",
       "      <td>NaN</td>\n",
       "      <td>NaN</td>\n",
       "      <td>NaN</td>\n",
       "      <td>0.254008</td>\n",
       "    </tr>\n",
       "    <tr>\n",
       "      <th>created_atIs_quarter_start</th>\n",
       "      <td>NaN</td>\n",
       "      <td>NaN</td>\n",
       "      <td>NaN</td>\n",
       "      <td>NaN</td>\n",
       "      <td>NaN</td>\n",
       "      <td>NaN</td>\n",
       "      <td>NaN</td>\n",
       "      <td>NaN</td>\n",
       "      <td>NaN</td>\n",
       "      <td>NaN</td>\n",
       "      <td>NaN</td>\n",
       "      <td>NaN</td>\n",
       "      <td>NaN</td>\n",
       "      <td>NaN</td>\n",
       "      <td>NaN</td>\n",
       "      <td>NaN</td>\n",
       "      <td>NaN</td>\n",
       "      <td>NaN</td>\n",
       "      <td>NaN</td>\n",
       "    </tr>\n",
       "    <tr>\n",
       "      <th>created_atIs_year_end</th>\n",
       "      <td>NaN</td>\n",
       "      <td>NaN</td>\n",
       "      <td>NaN</td>\n",
       "      <td>NaN</td>\n",
       "      <td>NaN</td>\n",
       "      <td>NaN</td>\n",
       "      <td>NaN</td>\n",
       "      <td>NaN</td>\n",
       "      <td>NaN</td>\n",
       "      <td>NaN</td>\n",
       "      <td>NaN</td>\n",
       "      <td>NaN</td>\n",
       "      <td>NaN</td>\n",
       "      <td>NaN</td>\n",
       "      <td>NaN</td>\n",
       "      <td>NaN</td>\n",
       "      <td>NaN</td>\n",
       "      <td>NaN</td>\n",
       "      <td>NaN</td>\n",
       "    </tr>\n",
       "    <tr>\n",
       "      <th>created_atIs_year_start</th>\n",
       "      <td>NaN</td>\n",
       "      <td>NaN</td>\n",
       "      <td>NaN</td>\n",
       "      <td>NaN</td>\n",
       "      <td>NaN</td>\n",
       "      <td>NaN</td>\n",
       "      <td>NaN</td>\n",
       "      <td>NaN</td>\n",
       "      <td>NaN</td>\n",
       "      <td>NaN</td>\n",
       "      <td>NaN</td>\n",
       "      <td>NaN</td>\n",
       "      <td>NaN</td>\n",
       "      <td>NaN</td>\n",
       "      <td>NaN</td>\n",
       "      <td>NaN</td>\n",
       "      <td>NaN</td>\n",
       "      <td>NaN</td>\n",
       "      <td>NaN</td>\n",
       "    </tr>\n",
       "    <tr>\n",
       "      <th>created_atElapsed</th>\n",
       "      <td>0.031717</td>\n",
       "      <td>0.002870</td>\n",
       "      <td>0.069426</td>\n",
       "      <td>-0.001295</td>\n",
       "      <td>0.001275</td>\n",
       "      <td>NaN</td>\n",
       "      <td>NaN</td>\n",
       "      <td>0.977630</td>\n",
       "      <td>0.999820</td>\n",
       "      <td>-0.046604</td>\n",
       "      <td>-0.049141</td>\n",
       "      <td>0.999820</td>\n",
       "      <td>0.254008</td>\n",
       "      <td>-0.313232</td>\n",
       "      <td>0.254008</td>\n",
       "      <td>NaN</td>\n",
       "      <td>NaN</td>\n",
       "      <td>NaN</td>\n",
       "      <td>1.000000</td>\n",
       "    </tr>\n",
       "  </tbody>\n",
       "</table>\n",
       "</div>"
      ],
      "text/plain": [
       "                            tasker_id  position  hourly_rate  \\\n",
       "tasker_id                    1.000000 -0.039069    -0.086698   \n",
       "position                    -0.039069  1.000000     0.140029   \n",
       "hourly_rate                 -0.086698  0.140029     1.000000   \n",
       "num_completed_tasks         -0.313843  0.024309     0.287258   \n",
       "hired                        0.008412 -0.213608    -0.046519   \n",
       "created_atYear                    NaN       NaN          NaN   \n",
       "created_atMonth                   NaN       NaN          NaN   \n",
       "created_atWeek               0.031548  0.003548     0.068817   \n",
       "created_atDay                0.031486  0.002855     0.069686   \n",
       "created_athour              -0.001036 -0.004467    -0.047935   \n",
       "created_atDayofweek         -0.005160 -0.003734    -0.006643   \n",
       "created_atDayofyear          0.031486  0.002855     0.069686   \n",
       "created_atIs_month_end       0.016718 -0.005654     0.001766   \n",
       "created_atIs_month_start     0.008851 -0.004327     0.019292   \n",
       "created_atIs_quarter_end     0.016718 -0.005654     0.001766   \n",
       "created_atIs_quarter_start        NaN       NaN          NaN   \n",
       "created_atIs_year_end             NaN       NaN          NaN   \n",
       "created_atIs_year_start           NaN       NaN          NaN   \n",
       "created_atElapsed            0.031717  0.002870     0.069426   \n",
       "\n",
       "                            num_completed_tasks     hired  created_atYear  \\\n",
       "tasker_id                             -0.313843  0.008412             NaN   \n",
       "position                               0.024309 -0.213608             NaN   \n",
       "hourly_rate                            0.287258 -0.046519             NaN   \n",
       "num_completed_tasks                    1.000000  0.041825             NaN   \n",
       "hired                                  0.041825  1.000000             NaN   \n",
       "created_atYear                              NaN       NaN             NaN   \n",
       "created_atMonth                             NaN       NaN             NaN   \n",
       "created_atWeek                         0.005321  0.001493             NaN   \n",
       "created_atDay                         -0.001026  0.001234             NaN   \n",
       "created_athour                        -0.013893  0.002683             NaN   \n",
       "created_atDayofweek                   -0.029975 -0.001419             NaN   \n",
       "created_atDayofyear                   -0.001026  0.001234             NaN   \n",
       "created_atIs_month_end                -0.032959  0.007841             NaN   \n",
       "created_atIs_month_start              -0.012417 -0.003075             NaN   \n",
       "created_atIs_quarter_end              -0.032959  0.007841             NaN   \n",
       "created_atIs_quarter_start                  NaN       NaN             NaN   \n",
       "created_atIs_year_end                       NaN       NaN             NaN   \n",
       "created_atIs_year_start                     NaN       NaN             NaN   \n",
       "created_atElapsed                     -0.001295  0.001275             NaN   \n",
       "\n",
       "                            created_atMonth  created_atWeek  created_atDay  \\\n",
       "tasker_id                               NaN        0.031548       0.031486   \n",
       "position                                NaN        0.003548       0.002855   \n",
       "hourly_rate                             NaN        0.068817       0.069686   \n",
       "num_completed_tasks                     NaN        0.005321      -0.001026   \n",
       "hired                                   NaN        0.001493       0.001234   \n",
       "created_atYear                          NaN             NaN            NaN   \n",
       "created_atMonth                         NaN             NaN            NaN   \n",
       "created_atWeek                          NaN        1.000000       0.977620   \n",
       "created_atDay                           NaN        0.977620       1.000000   \n",
       "created_athour                          NaN       -0.046401      -0.053141   \n",
       "created_atDayofweek                     NaN       -0.257320      -0.048266   \n",
       "created_atDayofyear                     NaN        0.977620       1.000000   \n",
       "created_atIs_month_end                  NaN        0.207024       0.254089   \n",
       "created_atIs_month_start                NaN       -0.326146      -0.313666   \n",
       "created_atIs_quarter_end                NaN        0.207024       0.254089   \n",
       "created_atIs_quarter_start              NaN             NaN            NaN   \n",
       "created_atIs_year_end                   NaN             NaN            NaN   \n",
       "created_atIs_year_start                 NaN             NaN            NaN   \n",
       "created_atElapsed                       NaN        0.977630       0.999820   \n",
       "\n",
       "                            created_athour  created_atDayofweek  \\\n",
       "tasker_id                        -0.001036            -0.005160   \n",
       "position                         -0.004467            -0.003734   \n",
       "hourly_rate                      -0.047935            -0.006643   \n",
       "num_completed_tasks              -0.013893            -0.029975   \n",
       "hired                             0.002683            -0.001419   \n",
       "created_atYear                         NaN                  NaN   \n",
       "created_atMonth                        NaN                  NaN   \n",
       "created_atWeek                   -0.046401            -0.257320   \n",
       "created_atDay                    -0.053141            -0.048266   \n",
       "created_athour                    1.000000            -0.023788   \n",
       "created_atDayofweek              -0.023788             1.000000   \n",
       "created_atDayofyear              -0.053141            -0.048266   \n",
       "created_atIs_month_end           -0.015012             0.184191   \n",
       "created_atIs_month_start          0.005015             0.107723   \n",
       "created_atIs_quarter_end         -0.015012             0.184191   \n",
       "created_atIs_quarter_start             NaN                  NaN   \n",
       "created_atIs_year_end                  NaN                  NaN   \n",
       "created_atIs_year_start                NaN                  NaN   \n",
       "created_atElapsed                -0.046604            -0.049141   \n",
       "\n",
       "                            created_atDayofyear  created_atIs_month_end  \\\n",
       "tasker_id                              0.031486                0.016718   \n",
       "position                               0.002855               -0.005654   \n",
       "hourly_rate                            0.069686                0.001766   \n",
       "num_completed_tasks                   -0.001026               -0.032959   \n",
       "hired                                  0.001234                0.007841   \n",
       "created_atYear                              NaN                     NaN   \n",
       "created_atMonth                             NaN                     NaN   \n",
       "created_atWeek                         0.977620                0.207024   \n",
       "created_atDay                          1.000000                0.254089   \n",
       "created_athour                        -0.053141               -0.015012   \n",
       "created_atDayofweek                   -0.048266                0.184191   \n",
       "created_atDayofyear                    1.000000                0.254089   \n",
       "created_atIs_month_end                 0.254089                1.000000   \n",
       "created_atIs_month_start              -0.313666               -0.028575   \n",
       "created_atIs_quarter_end               0.254089                1.000000   \n",
       "created_atIs_quarter_start                  NaN                     NaN   \n",
       "created_atIs_year_end                       NaN                     NaN   \n",
       "created_atIs_year_start                     NaN                     NaN   \n",
       "created_atElapsed                      0.999820                0.254008   \n",
       "\n",
       "                            created_atIs_month_start  \\\n",
       "tasker_id                                   0.008851   \n",
       "position                                   -0.004327   \n",
       "hourly_rate                                 0.019292   \n",
       "num_completed_tasks                        -0.012417   \n",
       "hired                                      -0.003075   \n",
       "created_atYear                                   NaN   \n",
       "created_atMonth                                  NaN   \n",
       "created_atWeek                             -0.326146   \n",
       "created_atDay                              -0.313666   \n",
       "created_athour                              0.005015   \n",
       "created_atDayofweek                         0.107723   \n",
       "created_atDayofyear                        -0.313666   \n",
       "created_atIs_month_end                     -0.028575   \n",
       "created_atIs_month_start                    1.000000   \n",
       "created_atIs_quarter_end                   -0.028575   \n",
       "created_atIs_quarter_start                       NaN   \n",
       "created_atIs_year_end                            NaN   \n",
       "created_atIs_year_start                          NaN   \n",
       "created_atElapsed                          -0.313232   \n",
       "\n",
       "                            created_atIs_quarter_end  \\\n",
       "tasker_id                                   0.016718   \n",
       "position                                   -0.005654   \n",
       "hourly_rate                                 0.001766   \n",
       "num_completed_tasks                        -0.032959   \n",
       "hired                                       0.007841   \n",
       "created_atYear                                   NaN   \n",
       "created_atMonth                                  NaN   \n",
       "created_atWeek                              0.207024   \n",
       "created_atDay                               0.254089   \n",
       "created_athour                             -0.015012   \n",
       "created_atDayofweek                         0.184191   \n",
       "created_atDayofyear                         0.254089   \n",
       "created_atIs_month_end                      1.000000   \n",
       "created_atIs_month_start                   -0.028575   \n",
       "created_atIs_quarter_end                    1.000000   \n",
       "created_atIs_quarter_start                       NaN   \n",
       "created_atIs_year_end                            NaN   \n",
       "created_atIs_year_start                          NaN   \n",
       "created_atElapsed                           0.254008   \n",
       "\n",
       "                            created_atIs_quarter_start  created_atIs_year_end  \\\n",
       "tasker_id                                          NaN                    NaN   \n",
       "position                                           NaN                    NaN   \n",
       "hourly_rate                                        NaN                    NaN   \n",
       "num_completed_tasks                                NaN                    NaN   \n",
       "hired                                              NaN                    NaN   \n",
       "created_atYear                                     NaN                    NaN   \n",
       "created_atMonth                                    NaN                    NaN   \n",
       "created_atWeek                                     NaN                    NaN   \n",
       "created_atDay                                      NaN                    NaN   \n",
       "created_athour                                     NaN                    NaN   \n",
       "created_atDayofweek                                NaN                    NaN   \n",
       "created_atDayofyear                                NaN                    NaN   \n",
       "created_atIs_month_end                             NaN                    NaN   \n",
       "created_atIs_month_start                           NaN                    NaN   \n",
       "created_atIs_quarter_end                           NaN                    NaN   \n",
       "created_atIs_quarter_start                         NaN                    NaN   \n",
       "created_atIs_year_end                              NaN                    NaN   \n",
       "created_atIs_year_start                            NaN                    NaN   \n",
       "created_atElapsed                                  NaN                    NaN   \n",
       "\n",
       "                            created_atIs_year_start  created_atElapsed  \n",
       "tasker_id                                       NaN           0.031717  \n",
       "position                                        NaN           0.002870  \n",
       "hourly_rate                                     NaN           0.069426  \n",
       "num_completed_tasks                             NaN          -0.001295  \n",
       "hired                                           NaN           0.001275  \n",
       "created_atYear                                  NaN                NaN  \n",
       "created_atMonth                                 NaN                NaN  \n",
       "created_atWeek                                  NaN           0.977630  \n",
       "created_atDay                                   NaN           0.999820  \n",
       "created_athour                                  NaN          -0.046604  \n",
       "created_atDayofweek                             NaN          -0.049141  \n",
       "created_atDayofyear                             NaN           0.999820  \n",
       "created_atIs_month_end                          NaN           0.254008  \n",
       "created_atIs_month_start                        NaN          -0.313232  \n",
       "created_atIs_quarter_end                        NaN           0.254008  \n",
       "created_atIs_quarter_start                      NaN                NaN  \n",
       "created_atIs_year_end                           NaN                NaN  \n",
       "created_atIs_year_start                         NaN                NaN  \n",
       "created_atElapsed                               NaN           1.000000  "
      ]
     },
     "execution_count": 18,
     "metadata": {},
     "output_type": "execute_result"
    }
   ],
   "source": [
    "df_raw.corr()"
   ]
  },
  {
   "cell_type": "markdown",
   "id": "e06debc2",
   "metadata": {},
   "source": [
    "we can clearly see that position and number of completed tasks are making major impact on the hiring decision which proves our initial assumption:\n",
    "1. position is negatively correlated - lower in the list of the recommendation set is a possibility that earlier records may get hired before reaching to that particular record\n",
    "2. number of completed tasks - It defines the success in this criteria and building trust. more the number of completed tasks more chance of getting hired on the task. \n",
    "3. we can also observe hourly rate is negatively correlated to hiring decision as well.\n",
    "\n",
    "Now we have observed the correlation factors of the fields, we can now build more features to get more accurate predictions "
   ]
  },
  {
   "cell_type": "markdown",
   "id": "fabb4949",
   "metadata": {},
   "source": [
    " "
   ]
  },
  {
   "cell_type": "markdown",
   "id": "ad0954b9",
   "metadata": {},
   "source": [
    "### Preprocessing the data for Modeling"
   ]
  },
  {
   "cell_type": "code",
   "execution_count": 19,
   "id": "7e76d6b4",
   "metadata": {},
   "outputs": [],
   "source": [
    "def train_cats(df):\n",
    "    \"\"\"change any columns of strings in the dataframe to a column of categorical values. \n",
    "    This applies the changes inplace\"\"\"\n",
    "    for n,c in df.items():\n",
    "        if is_string_dtype(c): df[n] = c.astype('category').cat.as_ordered()\n",
    "            \n",
    "def apply_cats(df, trn):\n",
    "    \"\"\"Changes any columns of strings in the dataframe into categorical variables \n",
    "    using trn as a template for the category codes\"\"\"\n",
    "    for n,c in df.items():\n",
    "        if (n in trn.columns) and (trn[n].dtype.name=='category'):\n",
    "            df[n] = c.astype('category').cat.as_ordered()\n",
    "            df[n].cat.set_categories(trn[n].cat.categories, ordered=True, inplace=True)\n",
    "\n",
    "def fix_missing(df, col, name, na_dict):\n",
    "    \"\"\"Fill missing data in a column of the dataframe with the median,\n",
    "    and add a {name}_na column which specifies if the data was missing\"\"\"\n",
    "    if is_numeric_dtype(col):\n",
    "        if pd.isnull(col).sum() or (name in na_dict):\n",
    "            df[name+'_na'] = pd.isnull(col)\n",
    "            filler = na_dict[name] if name in na_dict else col.median()\n",
    "            df[name] = col.fillna(filler)\n",
    "            na_dict[name] = filler\n",
    "    return na_dict\n",
    "\n",
    "def numericalize(df, col, name, max_n_cat):\n",
    "    \"\"\"Changes the column col from a categorical type to its integer codes\"\"\"\n",
    "    if not is_numeric_dtype(col) and ( max_n_cat is None or len(col.cat.categories)>max_n_cat):\n",
    "        df[name] = pd.Categorical(col).codes+1\n",
    "\n",
    "def scale_vars(df, mapper):\n",
    "    \"\"\"standard scaling\"\"\"\n",
    "    warnings.filterwarnings('ignore', category=sklearn.exceptions.DataConversionWarning)\n",
    "    if mapper is None:\n",
    "        map_f = [([n],StandardScaler()) for n in df.columns if is_numeric_dtype(df[n])]\n",
    "        mapper = DataFrameMapper(map_f).fit(df)\n",
    "    df[mapper.transformed_names_] = mapper.transform(df)\n",
    "    return mapper\n",
    "\n",
    "def get_sample(df,n):\n",
    "    idxs = sorted(np.random.permutation(len(df))[:n])\n",
    "    return df.iloc[idxs].copy()\n",
    "\n",
    "def proc_df(df, y_fld=None, skip_flds=None, ignore_flds=None, do_scale=False, na_dict=None,\n",
    "            preproc_fn=None, max_n_cat=None, subset=None, mapper=None):\n",
    "    \"\"\"proc_df takes a dataframe df and process the response variable, and changes the df into an entirely numeric dataframe\"\"\"\n",
    "    if not ignore_flds: ignore_flds=[]\n",
    "    if not skip_flds: skip_flds=[]\n",
    "    if subset: df = get_sample(df,subset)\n",
    "    else: df = df.copy()\n",
    "    ignored_flds = df.loc[:, ignore_flds]\n",
    "    df.drop(ignore_flds, axis=1, inplace=True)\n",
    "    if preproc_fn: preproc_fn(df)\n",
    "    if y_fld is None: y = None\n",
    "    else:\n",
    "        if not is_numeric_dtype(df[y_fld]): df[y_fld] = pd.Categorical(df[y_fld]).codes\n",
    "        y = df[y_fld].values\n",
    "        skip_flds += [y_fld]\n",
    "    df.drop(skip_flds, axis=1, inplace=True)\n",
    "\n",
    "    if na_dict is None: na_dict = {}\n",
    "    else: na_dict = na_dict.copy()\n",
    "    na_dict_initial = na_dict.copy()\n",
    "    for n,c in df.items(): na_dict = fix_missing(df, c, n, na_dict)\n",
    "    if len(na_dict_initial.keys()) > 0:\n",
    "        df.drop([a + '_na' for a in list(set(na_dict.keys()) - set(na_dict_initial.keys()))], axis=1, inplace=True)\n",
    "    if do_scale: mapper = scale_vars(df, mapper)\n",
    "    for n,c in df.items(): numericalize(df, c, n, max_n_cat)\n",
    "    df = pd.get_dummies(df, dummy_na=True)\n",
    "    df = pd.concat([ignored_flds, df], axis=1)\n",
    "    res = [df, y, na_dict]\n",
    "    if do_scale: res = res + [mapper]\n",
    "    return res"
   ]
  },
  {
   "cell_type": "code",
   "execution_count": 20,
   "id": "c88b2539",
   "metadata": {},
   "outputs": [],
   "source": [
    "train_cats(df_raw)"
   ]
  },
  {
   "cell_type": "code",
   "execution_count": 21,
   "id": "6b98b7ea",
   "metadata": {},
   "outputs": [
    {
     "data": {
      "text/plain": [
       "Index(['0-0-00033225-3f89-47dd-b4f1-5d1feb359a76',\n",
       "       '0-0-000ea7f0-2ad9-48ee-bc79-899ee439be82',\n",
       "       '0-0-0027ac52-1983-4130-8a65-5048dda560c9',\n",
       "       '0-0-003a3672-3c80-4134-b409-b80baee0e082',\n",
       "       '0-0-0045d200-f7c0-4fe6-94df-b89a4cde3ee7',\n",
       "       '0-0-0046a0f0-1d70-42e4-a6d3-43e9a4c614d9',\n",
       "       '0-0-004cc112-d2ee-4753-8e55-76e95369364e',\n",
       "       '0-0-00549753-28f1-4291-b176-e1bec0d77b0e',\n",
       "       '0-0-006326c7-5448-48fe-8e08-55d0fdfb9fe2',\n",
       "       '0-0-006fe8d8-309a-4f2f-ae14-2936321fc19d',\n",
       "       ...\n",
       "       '0-1078833-2fcc37f5-1beb-4cbb-99b9-c68ff2f58a1d',\n",
       "       '0-1078833-389b5181-77d2-4393-87b4-254ddfcb4e1a',\n",
       "       '0-1078833-3a488665-f9d0-489f-b46a-2e8e26c1fc85',\n",
       "       '0-1078833-47012ad9-ca2e-4644-9196-dc90be99b4c0',\n",
       "       '0-1078833-52edd4ef-15a7-4899-a60a-2518a8db8646',\n",
       "       '0-1078833-533e288a-39c8-4721-8c5b-5b9fe472d478',\n",
       "       '0-1078833-54d459fd-bb51-40fd-88bf-62ab8dfc8d77',\n",
       "       '0-1078833-569d76c9-681f-4ed6-92e6-0a0942a3ac76',\n",
       "       '0-1078833-593326fc-d192-46b5-98ca-c2797929c27a',\n",
       "       '0-1078833-59ab55bd-23e9-416c-aa71-6b277859ca2d'],\n",
       "      dtype='object', length=2100)"
      ]
     },
     "execution_count": 21,
     "metadata": {},
     "output_type": "execute_result"
    }
   ],
   "source": [
    "df_raw.funnel_search_id.cat.categories"
   ]
  },
  {
   "cell_type": "code",
   "execution_count": 22,
   "id": "6e980bf7",
   "metadata": {},
   "outputs": [
    {
     "data": {
      "text/plain": [
       "Index(['Furniture Assembly', 'Mounting', 'Moving Help'], dtype='object')"
      ]
     },
     "execution_count": 22,
     "metadata": {},
     "output_type": "execute_result"
    }
   ],
   "source": [
    "df_raw.category.cat.categories"
   ]
  },
  {
   "cell_type": "code",
   "execution_count": 23,
   "id": "05cefe57",
   "metadata": {},
   "outputs": [
    {
     "data": {
      "text/plain": [
       "category                      0.0\n",
       "created_atDay                 0.0\n",
       "created_atDayofweek           0.0\n",
       "created_atDayofyear           0.0\n",
       "created_atElapsed             0.0\n",
       "created_atIs_month_end        0.0\n",
       "created_atIs_month_start      0.0\n",
       "created_atIs_quarter_end      0.0\n",
       "created_atIs_quarter_start    0.0\n",
       "created_atIs_year_end         0.0\n",
       "created_atIs_year_start       0.0\n",
       "created_atMonth               0.0\n",
       "created_atWeek                0.0\n",
       "created_atYear                0.0\n",
       "created_athour                0.0\n",
       "funnel_search_id              0.0\n",
       "hired                         0.0\n",
       "hourly_rate                   0.0\n",
       "num_completed_tasks           0.0\n",
       "position                      0.0\n",
       "tasker_id                     0.0\n",
       "dtype: float64"
      ]
     },
     "metadata": {},
     "output_type": "display_data"
    }
   ],
   "source": [
    "# checking for nulls in the dataset\n",
    "display_all(df_raw.isnull().sum().sort_index()/len(df_raw))"
   ]
  },
  {
   "cell_type": "code",
   "execution_count": 24,
   "id": "f21922bb",
   "metadata": {},
   "outputs": [],
   "source": [
    "# saving the file on ram\n",
    "import os\n",
    "os.makedirs('tmp', exist_ok=True)\n",
    "df_raw.to_feather('tmp/raw')"
   ]
  },
  {
   "cell_type": "code",
   "execution_count": 25,
   "id": "a7148242",
   "metadata": {},
   "outputs": [
    {
     "data": {
      "text/plain": [
       "0    28295\n",
       "1     1705\n",
       "Name: hired, dtype: int64"
      ]
     },
     "execution_count": 25,
     "metadata": {},
     "output_type": "execute_result"
    }
   ],
   "source": [
    "df_raw = pd.read_feather('tmp/raw')\n",
    "df_raw['hired'].value_counts()"
   ]
  },
  {
   "cell_type": "markdown",
   "id": "e4406022",
   "metadata": {},
   "source": [
    "Since the dataset has imbalanced classes, SMOTE method is best in this scenario to upsample the lower class to match the upper class"
   ]
  },
  {
   "cell_type": "code",
   "execution_count": 26,
   "id": "a09b932d",
   "metadata": {},
   "outputs": [],
   "source": [
    "X, y, nas = proc_df(df_raw, 'hired')"
   ]
  },
  {
   "cell_type": "code",
   "execution_count": 27,
   "id": "465d255f",
   "metadata": {},
   "outputs": [],
   "source": [
    "# SMOTE based algorithm to upsample - duplicates randomly selected data observations from the outnumbered class\n",
    "seed = 1000\n",
    "sm = SMOTE(sampling_strategy = 'auto', random_state=seed)\n",
    "X_res, y_res = sm.fit_resample(X, y)"
   ]
  },
  {
   "cell_type": "code",
   "execution_count": 28,
   "id": "e3b06532",
   "metadata": {},
   "outputs": [
    {
     "name": "stdout",
     "output_type": "stream",
     "text": [
      "(28295, 20)\n",
      "(1705, 20)\n",
      "(28295, 20)\n",
      "(28295, 20)\n"
     ]
    }
   ],
   "source": [
    "print(X[y==0].shape)\n",
    "print(X[y==1].shape)\n",
    "print(X_res[y_res==0].shape)\n",
    "print(X_res[y_res==1].shape)"
   ]
  },
  {
   "cell_type": "code",
   "execution_count": 29,
   "id": "a8667245",
   "metadata": {},
   "outputs": [],
   "source": [
    "df_smoted = pd.concat([pd.DataFrame(X_res), pd.DataFrame(y_res)], axis = 1)\n",
    "df_smoted.columns = ['funnel_search_id', 'tasker_id', 'position', 'hourly_rate', 'num_completed_tasks', 'category', \n",
    "              'created_atYear', 'created_atMonth', 'created_atWeek', 'created_atDay','created_athour', 'created_atDayofweek',\n",
    "              'created_atDayofyear', 'created_atIs_month_end', 'created_atIs_month_start', 'created_atIs_quarter_end',\n",
    "              'created_atIs_quarter_start', 'created_atIs_year_end', 'created_atIs_year_start',\n",
    "              'created_atElapsed', 'hired'\n",
    "             ]"
   ]
  },
  {
   "cell_type": "code",
   "execution_count": 30,
   "id": "2af4bd35",
   "metadata": {},
   "outputs": [
    {
     "data": {
      "text/plain": [
       "0    28295\n",
       "1    28295\n",
       "Name: hired, dtype: int64"
      ]
     },
     "execution_count": 30,
     "metadata": {},
     "output_type": "execute_result"
    }
   ],
   "source": [
    "df_smoted['hired'].value_counts()"
   ]
  },
  {
   "cell_type": "markdown",
   "id": "99361370",
   "metadata": {},
   "source": [
    "The classes are now balanced"
   ]
  },
  {
   "cell_type": "code",
   "execution_count": 31,
   "id": "d11c3641",
   "metadata": {},
   "outputs": [],
   "source": [
    "# seperating the target variable from the dataset, \n",
    "# also one hot encoding the categorical features which as less than 7 levels. Idea is to preserve field funnel_search_id\n",
    "df_trn, y_trn, nas = proc_df(df_smoted, 'hired', max_n_cat=7)"
   ]
  },
  {
   "cell_type": "code",
   "execution_count": 32,
   "id": "8fdeee06",
   "metadata": {},
   "outputs": [],
   "source": [
    "# splitting the dataset into train and validation sets\n",
    "def split_vals(a,n): return a[:n], a[n:]\n",
    "n_valid = 12000\n",
    "n_trn = len(df_trn)-n_valid\n",
    "X_train, X_valid = split_vals(df_trn, n_trn)\n",
    "y_train, y_valid = split_vals(y_trn, n_trn)\n",
    "raw_train, raw_valid = split_vals(df_raw, n_trn)"
   ]
  },
  {
   "cell_type": "markdown",
   "id": "936a270b",
   "metadata": {},
   "source": [
    " "
   ]
  },
  {
   "cell_type": "markdown",
   "id": "10231495",
   "metadata": {},
   "source": [
    "#### Feature Importance"
   ]
  },
  {
   "cell_type": "markdown",
   "id": "47e55f81",
   "metadata": {},
   "source": [
    "As a baseline, model is trained using Random Forest as\n",
    "1. It takes less training time as compared to other algorithms\n",
    "2. It predicts output with high accuracy in classification models, even for the large datasets it runs efficiently\n",
    "3. Assuming the predictions from each tree has very low correlation\n",
    "4. Assuming there are some actual values in the feature vaiable of the dataset so theat the classifier can predict accurate results than a guessed result."
   ]
  },
  {
   "cell_type": "code",
   "execution_count": 33,
   "id": "e35f654c",
   "metadata": {},
   "outputs": [
    {
     "name": "stdout",
     "output_type": "stream",
     "text": [
      "CPU times: total: 2.08 s\n",
      "Wall time: 348 ms\n"
     ]
    },
    {
     "data": {
      "text/html": [
       "<style>#sk-container-id-1 {color: black;background-color: white;}#sk-container-id-1 pre{padding: 0;}#sk-container-id-1 div.sk-toggleable {background-color: white;}#sk-container-id-1 label.sk-toggleable__label {cursor: pointer;display: block;width: 100%;margin-bottom: 0;padding: 0.3em;box-sizing: border-box;text-align: center;}#sk-container-id-1 label.sk-toggleable__label-arrow:before {content: \"▸\";float: left;margin-right: 0.25em;color: #696969;}#sk-container-id-1 label.sk-toggleable__label-arrow:hover:before {color: black;}#sk-container-id-1 div.sk-estimator:hover label.sk-toggleable__label-arrow:before {color: black;}#sk-container-id-1 div.sk-toggleable__content {max-height: 0;max-width: 0;overflow: hidden;text-align: left;background-color: #f0f8ff;}#sk-container-id-1 div.sk-toggleable__content pre {margin: 0.2em;color: black;border-radius: 0.25em;background-color: #f0f8ff;}#sk-container-id-1 input.sk-toggleable__control:checked~div.sk-toggleable__content {max-height: 200px;max-width: 100%;overflow: auto;}#sk-container-id-1 input.sk-toggleable__control:checked~label.sk-toggleable__label-arrow:before {content: \"▾\";}#sk-container-id-1 div.sk-estimator input.sk-toggleable__control:checked~label.sk-toggleable__label {background-color: #d4ebff;}#sk-container-id-1 div.sk-label input.sk-toggleable__control:checked~label.sk-toggleable__label {background-color: #d4ebff;}#sk-container-id-1 input.sk-hidden--visually {border: 0;clip: rect(1px 1px 1px 1px);clip: rect(1px, 1px, 1px, 1px);height: 1px;margin: -1px;overflow: hidden;padding: 0;position: absolute;width: 1px;}#sk-container-id-1 div.sk-estimator {font-family: monospace;background-color: #f0f8ff;border: 1px dotted black;border-radius: 0.25em;box-sizing: border-box;margin-bottom: 0.5em;}#sk-container-id-1 div.sk-estimator:hover {background-color: #d4ebff;}#sk-container-id-1 div.sk-parallel-item::after {content: \"\";width: 100%;border-bottom: 1px solid gray;flex-grow: 1;}#sk-container-id-1 div.sk-label:hover label.sk-toggleable__label {background-color: #d4ebff;}#sk-container-id-1 div.sk-serial::before {content: \"\";position: absolute;border-left: 1px solid gray;box-sizing: border-box;top: 0;bottom: 0;left: 50%;z-index: 0;}#sk-container-id-1 div.sk-serial {display: flex;flex-direction: column;align-items: center;background-color: white;padding-right: 0.2em;padding-left: 0.2em;position: relative;}#sk-container-id-1 div.sk-item {position: relative;z-index: 1;}#sk-container-id-1 div.sk-parallel {display: flex;align-items: stretch;justify-content: center;background-color: white;position: relative;}#sk-container-id-1 div.sk-item::before, #sk-container-id-1 div.sk-parallel-item::before {content: \"\";position: absolute;border-left: 1px solid gray;box-sizing: border-box;top: 0;bottom: 0;left: 50%;z-index: -1;}#sk-container-id-1 div.sk-parallel-item {display: flex;flex-direction: column;z-index: 1;position: relative;background-color: white;}#sk-container-id-1 div.sk-parallel-item:first-child::after {align-self: flex-end;width: 50%;}#sk-container-id-1 div.sk-parallel-item:last-child::after {align-self: flex-start;width: 50%;}#sk-container-id-1 div.sk-parallel-item:only-child::after {width: 0;}#sk-container-id-1 div.sk-dashed-wrapped {border: 1px dashed gray;margin: 0 0.4em 0.5em 0.4em;box-sizing: border-box;padding-bottom: 0.4em;background-color: white;}#sk-container-id-1 div.sk-label label {font-family: monospace;font-weight: bold;display: inline-block;line-height: 1.2em;}#sk-container-id-1 div.sk-label-container {text-align: center;}#sk-container-id-1 div.sk-container {/* jupyter's `normalize.less` sets `[hidden] { display: none; }` but bootstrap.min.css set `[hidden] { display: none !important; }` so we also need the `!important` here to be able to override the default hidden behavior on the sphinx rendered scikit-learn.org. See: https://github.com/scikit-learn/scikit-learn/issues/21755 */display: inline-block !important;position: relative;}#sk-container-id-1 div.sk-text-repr-fallback {display: none;}</style><div id=\"sk-container-id-1\" class=\"sk-top-container\"><div class=\"sk-text-repr-fallback\"><pre>RandomForestClassifier(n_estimators=40, n_jobs=-1)</pre><b>In a Jupyter environment, please rerun this cell to show the HTML representation or trust the notebook. <br />On GitHub, the HTML representation is unable to render, please try loading this page with nbviewer.org.</b></div><div class=\"sk-container\" hidden><div class=\"sk-item\"><div class=\"sk-estimator sk-toggleable\"><input class=\"sk-toggleable__control sk-hidden--visually\" id=\"sk-estimator-id-1\" type=\"checkbox\" checked><label for=\"sk-estimator-id-1\" class=\"sk-toggleable__label sk-toggleable__label-arrow\">RandomForestClassifier</label><div class=\"sk-toggleable__content\"><pre>RandomForestClassifier(n_estimators=40, n_jobs=-1)</pre></div></div></div></div></div>"
      ],
      "text/plain": [
       "RandomForestClassifier(n_estimators=40, n_jobs=-1)"
      ]
     },
     "execution_count": 33,
     "metadata": {},
     "output_type": "execute_result"
    }
   ],
   "source": [
    "#establishing a baseline model\n",
    "m = RandomForestClassifier(n_estimators=40, n_jobs=-1)\n",
    "%time m.fit(X_train, y_train)"
   ]
  },
  {
   "cell_type": "code",
   "execution_count": 34,
   "id": "87e55cb7",
   "metadata": {},
   "outputs": [],
   "source": [
    "def draw_tree(t, df, size=10, ratio=0.6, precision=0):\n",
    "    s=export_graphviz(t, out_file=None, feature_names=df.columns, filled=True,\n",
    "                      special_characters=True, rotate=True, precision=precision)\n",
    "    IPython.display.display(graphviz.Source(re.sub('Tree {',\n",
    "       f'Tree {{ size={size}; ratio={ratio}', s)))"
   ]
  },
  {
   "cell_type": "code",
   "execution_count": 35,
   "id": "d898d419",
   "metadata": {},
   "outputs": [],
   "source": [
    "def rf_feat_importance(m, df):\n",
    "    return pd.DataFrame({'cols':df.columns, 'imp':m.feature_importances_}\n",
    "                       ).sort_values('imp', ascending=False)"
   ]
  },
  {
   "cell_type": "code",
   "execution_count": 36,
   "id": "8709457f",
   "metadata": {},
   "outputs": [
    {
     "data": {
      "text/html": [
       "<div>\n",
       "<style scoped>\n",
       "    .dataframe tbody tr th:only-of-type {\n",
       "        vertical-align: middle;\n",
       "    }\n",
       "\n",
       "    .dataframe tbody tr th {\n",
       "        vertical-align: top;\n",
       "    }\n",
       "\n",
       "    .dataframe thead th {\n",
       "        text-align: right;\n",
       "    }\n",
       "</style>\n",
       "<table border=\"1\" class=\"dataframe\">\n",
       "  <thead>\n",
       "    <tr style=\"text-align: right;\">\n",
       "      <th></th>\n",
       "      <th>cols</th>\n",
       "      <th>imp</th>\n",
       "    </tr>\n",
       "  </thead>\n",
       "  <tbody>\n",
       "    <tr>\n",
       "      <th>2</th>\n",
       "      <td>position</td>\n",
       "      <td>0.249144</td>\n",
       "    </tr>\n",
       "    <tr>\n",
       "      <th>4</th>\n",
       "      <td>num_completed_tasks</td>\n",
       "      <td>0.131543</td>\n",
       "    </tr>\n",
       "    <tr>\n",
       "      <th>1</th>\n",
       "      <td>tasker_id</td>\n",
       "      <td>0.107411</td>\n",
       "    </tr>\n",
       "    <tr>\n",
       "      <th>3</th>\n",
       "      <td>hourly_rate</td>\n",
       "      <td>0.090298</td>\n",
       "    </tr>\n",
       "    <tr>\n",
       "      <th>10</th>\n",
       "      <td>created_athour</td>\n",
       "      <td>0.082399</td>\n",
       "    </tr>\n",
       "    <tr>\n",
       "      <th>0</th>\n",
       "      <td>funnel_search_id</td>\n",
       "      <td>0.078666</td>\n",
       "    </tr>\n",
       "    <tr>\n",
       "      <th>11</th>\n",
       "      <td>created_atDayofweek</td>\n",
       "      <td>0.053217</td>\n",
       "    </tr>\n",
       "    <tr>\n",
       "      <th>9</th>\n",
       "      <td>created_atDay</td>\n",
       "      <td>0.047126</td>\n",
       "    </tr>\n",
       "    <tr>\n",
       "      <th>12</th>\n",
       "      <td>created_atDayofyear</td>\n",
       "      <td>0.046538</td>\n",
       "    </tr>\n",
       "    <tr>\n",
       "      <th>8</th>\n",
       "      <td>created_atWeek</td>\n",
       "      <td>0.044817</td>\n",
       "    </tr>\n",
       "    <tr>\n",
       "      <th>19</th>\n",
       "      <td>created_atElapsed</td>\n",
       "      <td>0.041851</td>\n",
       "    </tr>\n",
       "    <tr>\n",
       "      <th>5</th>\n",
       "      <td>category</td>\n",
       "      <td>0.022810</td>\n",
       "    </tr>\n",
       "    <tr>\n",
       "      <th>14</th>\n",
       "      <td>created_atIs_month_start</td>\n",
       "      <td>0.003421</td>\n",
       "    </tr>\n",
       "    <tr>\n",
       "      <th>15</th>\n",
       "      <td>created_atIs_quarter_end</td>\n",
       "      <td>0.000394</td>\n",
       "    </tr>\n",
       "    <tr>\n",
       "      <th>13</th>\n",
       "      <td>created_atIs_month_end</td>\n",
       "      <td>0.000365</td>\n",
       "    </tr>\n",
       "  </tbody>\n",
       "</table>\n",
       "</div>"
      ],
      "text/plain": [
       "                        cols       imp\n",
       "2                   position  0.249144\n",
       "4        num_completed_tasks  0.131543\n",
       "1                  tasker_id  0.107411\n",
       "3                hourly_rate  0.090298\n",
       "10            created_athour  0.082399\n",
       "0           funnel_search_id  0.078666\n",
       "11       created_atDayofweek  0.053217\n",
       "9              created_atDay  0.047126\n",
       "12       created_atDayofyear  0.046538\n",
       "8             created_atWeek  0.044817\n",
       "19         created_atElapsed  0.041851\n",
       "5                   category  0.022810\n",
       "14  created_atIs_month_start  0.003421\n",
       "15  created_atIs_quarter_end  0.000394\n",
       "13    created_atIs_month_end  0.000365"
      ]
     },
     "execution_count": 36,
     "metadata": {},
     "output_type": "execute_result"
    }
   ],
   "source": [
    "fi = rf_feat_importance(m, df_trn);\n",
    "fi[:15]"
   ]
  },
  {
   "cell_type": "code",
   "execution_count": 37,
   "id": "3f922ee4",
   "metadata": {},
   "outputs": [
    {
     "data": {
      "text/plain": [
       "<AxesSubplot:xlabel='cols'>"
      ]
     },
     "execution_count": 37,
     "metadata": {},
     "output_type": "execute_result"
    },
    {
     "data": {
      "image/png": "[encoded data removed]",
      "text/plain": [
       "<Figure size 720x432 with 1 Axes>"
      ]
     },
     "metadata": {
      "needs_background": "light"
     },
     "output_type": "display_data"
    }
   ],
   "source": [
    "fi.plot('cols', 'imp', figsize=(10,6), legend=False)"
   ]
  },
  {
   "cell_type": "code",
   "execution_count": 38,
   "id": "3938c120",
   "metadata": {},
   "outputs": [],
   "source": [
    "def plot_fi(fi):\n",
    "    return fi.plot('cols', 'imp','barh', figsize=(12,7), legend=False)"
   ]
  },
  {
   "cell_type": "code",
   "execution_count": 39,
   "id": "44bffd35",
   "metadata": {},
   "outputs": [
    {
     "data": {
      "text/plain": [
       "<AxesSubplot:ylabel='cols'>"
      ]
     },
     "execution_count": 39,
     "metadata": {},
     "output_type": "execute_result"
    },
    {
     "data": {
      "image/png": "[encoded data removed]",
      "text/plain": [
       "<Figure size 864x504 with 1 Axes>"
      ]
     },
     "metadata": {
      "needs_background": "light"
     },
     "output_type": "display_data"
    }
   ],
   "source": [
    "plot_fi(fi[:15])"
   ]
  },
  {
   "cell_type": "code",
   "execution_count": 40,
   "id": "33a968fb",
   "metadata": {},
   "outputs": [
    {
     "data": {
      "text/plain": [
       "11"
      ]
     },
     "execution_count": 40,
     "metadata": {},
     "output_type": "execute_result"
    }
   ],
   "source": [
    "to_keep = fi[fi.imp>0.03].cols; len(to_keep)"
   ]
  },
  {
   "cell_type": "code",
   "execution_count": 41,
   "id": "a30cacc9",
   "metadata": {},
   "outputs": [],
   "source": [
    "df_keep = df_trn[to_keep].copy()\n",
    "X_train, X_valid = split_vals(df_keep, n_trn)"
   ]
  },
  {
   "cell_type": "code",
   "execution_count": 42,
   "id": "4b277bb9",
   "metadata": {},
   "outputs": [
    {
     "name": "stdout",
     "output_type": "stream",
     "text": [
      "CPU times: total: 2.27 s\n",
      "Wall time: 327 ms\n"
     ]
    },
    {
     "data": {
      "text/html": [
       "<style>#sk-container-id-2 {color: black;background-color: white;}#sk-container-id-2 pre{padding: 0;}#sk-container-id-2 div.sk-toggleable {background-color: white;}#sk-container-id-2 label.sk-toggleable__label {cursor: pointer;display: block;width: 100%;margin-bottom: 0;padding: 0.3em;box-sizing: border-box;text-align: center;}#sk-container-id-2 label.sk-toggleable__label-arrow:before {content: \"▸\";float: left;margin-right: 0.25em;color: #696969;}#sk-container-id-2 label.sk-toggleable__label-arrow:hover:before {color: black;}#sk-container-id-2 div.sk-estimator:hover label.sk-toggleable__label-arrow:before {color: black;}#sk-container-id-2 div.sk-toggleable__content {max-height: 0;max-width: 0;overflow: hidden;text-align: left;background-color: #f0f8ff;}#sk-container-id-2 div.sk-toggleable__content pre {margin: 0.2em;color: black;border-radius: 0.25em;background-color: #f0f8ff;}#sk-container-id-2 input.sk-toggleable__control:checked~div.sk-toggleable__content {max-height: 200px;max-width: 100%;overflow: auto;}#sk-container-id-2 input.sk-toggleable__control:checked~label.sk-toggleable__label-arrow:before {content: \"▾\";}#sk-container-id-2 div.sk-estimator input.sk-toggleable__control:checked~label.sk-toggleable__label {background-color: #d4ebff;}#sk-container-id-2 div.sk-label input.sk-toggleable__control:checked~label.sk-toggleable__label {background-color: #d4ebff;}#sk-container-id-2 input.sk-hidden--visually {border: 0;clip: rect(1px 1px 1px 1px);clip: rect(1px, 1px, 1px, 1px);height: 1px;margin: -1px;overflow: hidden;padding: 0;position: absolute;width: 1px;}#sk-container-id-2 div.sk-estimator {font-family: monospace;background-color: #f0f8ff;border: 1px dotted black;border-radius: 0.25em;box-sizing: border-box;margin-bottom: 0.5em;}#sk-container-id-2 div.sk-estimator:hover {background-color: #d4ebff;}#sk-container-id-2 div.sk-parallel-item::after {content: \"\";width: 100%;border-bottom: 1px solid gray;flex-grow: 1;}#sk-container-id-2 div.sk-label:hover label.sk-toggleable__label {background-color: #d4ebff;}#sk-container-id-2 div.sk-serial::before {content: \"\";position: absolute;border-left: 1px solid gray;box-sizing: border-box;top: 0;bottom: 0;left: 50%;z-index: 0;}#sk-container-id-2 div.sk-serial {display: flex;flex-direction: column;align-items: center;background-color: white;padding-right: 0.2em;padding-left: 0.2em;position: relative;}#sk-container-id-2 div.sk-item {position: relative;z-index: 1;}#sk-container-id-2 div.sk-parallel {display: flex;align-items: stretch;justify-content: center;background-color: white;position: relative;}#sk-container-id-2 div.sk-item::before, #sk-container-id-2 div.sk-parallel-item::before {content: \"\";position: absolute;border-left: 1px solid gray;box-sizing: border-box;top: 0;bottom: 0;left: 50%;z-index: -1;}#sk-container-id-2 div.sk-parallel-item {display: flex;flex-direction: column;z-index: 1;position: relative;background-color: white;}#sk-container-id-2 div.sk-parallel-item:first-child::after {align-self: flex-end;width: 50%;}#sk-container-id-2 div.sk-parallel-item:last-child::after {align-self: flex-start;width: 50%;}#sk-container-id-2 div.sk-parallel-item:only-child::after {width: 0;}#sk-container-id-2 div.sk-dashed-wrapped {border: 1px dashed gray;margin: 0 0.4em 0.5em 0.4em;box-sizing: border-box;padding-bottom: 0.4em;background-color: white;}#sk-container-id-2 div.sk-label label {font-family: monospace;font-weight: bold;display: inline-block;line-height: 1.2em;}#sk-container-id-2 div.sk-label-container {text-align: center;}#sk-container-id-2 div.sk-container {/* jupyter's `normalize.less` sets `[hidden] { display: none; }` but bootstrap.min.css set `[hidden] { display: none !important; }` so we also need the `!important` here to be able to override the default hidden behavior on the sphinx rendered scikit-learn.org. See: https://github.com/scikit-learn/scikit-learn/issues/21755 */display: inline-block !important;position: relative;}#sk-container-id-2 div.sk-text-repr-fallback {display: none;}</style><div id=\"sk-container-id-2\" class=\"sk-top-container\"><div class=\"sk-text-repr-fallback\"><pre>RandomForestClassifier(n_estimators=40, n_jobs=-1)</pre><b>In a Jupyter environment, please rerun this cell to show the HTML representation or trust the notebook. <br />On GitHub, the HTML representation is unable to render, please try loading this page with nbviewer.org.</b></div><div class=\"sk-container\" hidden><div class=\"sk-item\"><div class=\"sk-estimator sk-toggleable\"><input class=\"sk-toggleable__control sk-hidden--visually\" id=\"sk-estimator-id-2\" type=\"checkbox\" checked><label for=\"sk-estimator-id-2\" class=\"sk-toggleable__label sk-toggleable__label-arrow\">RandomForestClassifier</label><div class=\"sk-toggleable__content\"><pre>RandomForestClassifier(n_estimators=40, n_jobs=-1)</pre></div></div></div></div></div>"
      ],
      "text/plain": [
       "RandomForestClassifier(n_estimators=40, n_jobs=-1)"
      ]
     },
     "execution_count": 42,
     "metadata": {},
     "output_type": "execute_result"
    }
   ],
   "source": [
    "m = RandomForestClassifier(n_estimators=40, n_jobs=-1)\n",
    "%time m.fit(X_train, y_train)"
   ]
  },
  {
   "cell_type": "code",
   "execution_count": 43,
   "id": "158128ac",
   "metadata": {},
   "outputs": [
    {
     "data": {
      "text/plain": [
       "<AxesSubplot:ylabel='cols'>"
      ]
     },
     "execution_count": 43,
     "metadata": {},
     "output_type": "execute_result"
    },
    {
     "data": {
      "image/png": "[encoded data removed]",
      "text/plain": [
       "<Figure size 864x504 with 1 Axes>"
      ]
     },
     "metadata": {
      "needs_background": "light"
     },
     "output_type": "display_data"
    }
   ],
   "source": [
    "fi = rf_feat_importance(m, df_keep)\n",
    "plot_fi(fi)"
   ]
  },
  {
   "cell_type": "markdown",
   "id": "a9fd9164",
   "metadata": {},
   "source": [
    "#### Checking for collinearity"
   ]
  },
  {
   "cell_type": "code",
   "execution_count": 44,
   "id": "428949e5",
   "metadata": {},
   "outputs": [],
   "source": [
    "import scipy\n",
    "import matplotlib.pyplot as plt\n",
    "from scipy.cluster import hierarchy as hc"
   ]
  },
  {
   "cell_type": "code",
   "execution_count": 45,
   "id": "cb777e5a",
   "metadata": {},
   "outputs": [
    {
     "data": {
      "image/png": "[encoded data removed]",
      "text/plain": [
       "<Figure size 1152x720 with 1 Axes>"
      ]
     },
     "metadata": {
      "needs_background": "light"
     },
     "output_type": "display_data"
    }
   ],
   "source": [
    "corr= np.round(scipy.stats.spearmanr(df_keep).correlation, 4)\n",
    "corr_condensed = hc.distance.squareform(1-corr)\n",
    "z = hc.linkage(corr_condensed, method='average')\n",
    "fig = plt.figure(figsize=(16,10))\n",
    "dendogram = hc.dendrogram(z, labels=df_keep.columns, orientation='left', leaf_font_size=16)\n",
    "plt.show()"
   ]
  },
  {
   "cell_type": "code",
   "execution_count": 46,
   "id": "58e9e772",
   "metadata": {},
   "outputs": [],
   "source": [
    "def get_oob(df):\n",
    "    m=RandomForestClassifier(n_estimators=30, min_samples_leaf=5, max_features=0.6, n_jobs=-1, oob_score=True)\n",
    "    x, _ = split_vals(df, n_trn)\n",
    "    m.fit(x, y_train)\n",
    "    return m.oob_score_"
   ]
  },
  {
   "cell_type": "code",
   "execution_count": 47,
   "id": "b39d5048",
   "metadata": {},
   "outputs": [
    {
     "data": {
      "text/plain": [
       "0.9326979143305674"
      ]
     },
     "execution_count": 47,
     "metadata": {},
     "output_type": "execute_result"
    }
   ],
   "source": [
    "get_oob(df_keep)"
   ]
  },
  {
   "cell_type": "code",
   "execution_count": 48,
   "id": "099b9636",
   "metadata": {},
   "outputs": [
    {
     "name": "stdout",
     "output_type": "stream",
     "text": [
      "created_atDay 0.9313074680421619\n",
      "created_atElapsed 0.9321372505045974\n",
      "created_atDayofyear 0.9313747477012783\n"
     ]
    }
   ],
   "source": [
    " for c in ('created_atDay', 'created_atElapsed', 'created_atDayofyear'):\n",
    "        print(c, get_oob(df_keep.drop(c, axis=1)))"
   ]
  },
  {
   "cell_type": "code",
   "execution_count": 49,
   "id": "4e1dbb3b",
   "metadata": {},
   "outputs": [
    {
     "data": {
      "text/plain": [
       "0.9318232787620543"
      ]
     },
     "execution_count": 49,
     "metadata": {},
     "output_type": "execute_result"
    }
   ],
   "source": [
    "to_drop = ['created_atElapsed']\n",
    "get_oob(df_keep.drop(to_drop, axis=1))"
   ]
  },
  {
   "cell_type": "code",
   "execution_count": 50,
   "id": "ee9317fc",
   "metadata": {},
   "outputs": [],
   "source": [
    "df_keep.drop(to_drop, axis=1, inplace=True)\n",
    "X_train, X_valid = split_vals(df_keep, n_trn)"
   ]
  },
  {
   "cell_type": "code",
   "execution_count": 51,
   "id": "eacc2351",
   "metadata": {},
   "outputs": [
    {
     "name": "stdout",
     "output_type": "stream",
     "text": [
      "CPU times: total: 15.6 ms\n",
      "Wall time: 19.6 ms\n"
     ]
    },
    {
     "data": {
      "text/html": [
       "<style>#sk-container-id-3 {color: black;background-color: white;}#sk-container-id-3 pre{padding: 0;}#sk-container-id-3 div.sk-toggleable {background-color: white;}#sk-container-id-3 label.sk-toggleable__label {cursor: pointer;display: block;width: 100%;margin-bottom: 0;padding: 0.3em;box-sizing: border-box;text-align: center;}#sk-container-id-3 label.sk-toggleable__label-arrow:before {content: \"▸\";float: left;margin-right: 0.25em;color: #696969;}#sk-container-id-3 label.sk-toggleable__label-arrow:hover:before {color: black;}#sk-container-id-3 div.sk-estimator:hover label.sk-toggleable__label-arrow:before {color: black;}#sk-container-id-3 div.sk-toggleable__content {max-height: 0;max-width: 0;overflow: hidden;text-align: left;background-color: #f0f8ff;}#sk-container-id-3 div.sk-toggleable__content pre {margin: 0.2em;color: black;border-radius: 0.25em;background-color: #f0f8ff;}#sk-container-id-3 input.sk-toggleable__control:checked~div.sk-toggleable__content {max-height: 200px;max-width: 100%;overflow: auto;}#sk-container-id-3 input.sk-toggleable__control:checked~label.sk-toggleable__label-arrow:before {content: \"▾\";}#sk-container-id-3 div.sk-estimator input.sk-toggleable__control:checked~label.sk-toggleable__label {background-color: #d4ebff;}#sk-container-id-3 div.sk-label input.sk-toggleable__control:checked~label.sk-toggleable__label {background-color: #d4ebff;}#sk-container-id-3 input.sk-hidden--visually {border: 0;clip: rect(1px 1px 1px 1px);clip: rect(1px, 1px, 1px, 1px);height: 1px;margin: -1px;overflow: hidden;padding: 0;position: absolute;width: 1px;}#sk-container-id-3 div.sk-estimator {font-family: monospace;background-color: #f0f8ff;border: 1px dotted black;border-radius: 0.25em;box-sizing: border-box;margin-bottom: 0.5em;}#sk-container-id-3 div.sk-estimator:hover {background-color: #d4ebff;}#sk-container-id-3 div.sk-parallel-item::after {content: \"\";width: 100%;border-bottom: 1px solid gray;flex-grow: 1;}#sk-container-id-3 div.sk-label:hover label.sk-toggleable__label {background-color: #d4ebff;}#sk-container-id-3 div.sk-serial::before {content: \"\";position: absolute;border-left: 1px solid gray;box-sizing: border-box;top: 0;bottom: 0;left: 50%;z-index: 0;}#sk-container-id-3 div.sk-serial {display: flex;flex-direction: column;align-items: center;background-color: white;padding-right: 0.2em;padding-left: 0.2em;position: relative;}#sk-container-id-3 div.sk-item {position: relative;z-index: 1;}#sk-container-id-3 div.sk-parallel {display: flex;align-items: stretch;justify-content: center;background-color: white;position: relative;}#sk-container-id-3 div.sk-item::before, #sk-container-id-3 div.sk-parallel-item::before {content: \"\";position: absolute;border-left: 1px solid gray;box-sizing: border-box;top: 0;bottom: 0;left: 50%;z-index: -1;}#sk-container-id-3 div.sk-parallel-item {display: flex;flex-direction: column;z-index: 1;position: relative;background-color: white;}#sk-container-id-3 div.sk-parallel-item:first-child::after {align-self: flex-end;width: 50%;}#sk-container-id-3 div.sk-parallel-item:last-child::after {align-self: flex-start;width: 50%;}#sk-container-id-3 div.sk-parallel-item:only-child::after {width: 0;}#sk-container-id-3 div.sk-dashed-wrapped {border: 1px dashed gray;margin: 0 0.4em 0.5em 0.4em;box-sizing: border-box;padding-bottom: 0.4em;background-color: white;}#sk-container-id-3 div.sk-label label {font-family: monospace;font-weight: bold;display: inline-block;line-height: 1.2em;}#sk-container-id-3 div.sk-label-container {text-align: center;}#sk-container-id-3 div.sk-container {/* jupyter's `normalize.less` sets `[hidden] { display: none; }` but bootstrap.min.css set `[hidden] { display: none !important; }` so we also need the `!important` here to be able to override the default hidden behavior on the sphinx rendered scikit-learn.org. See: https://github.com/scikit-learn/scikit-learn/issues/21755 */display: inline-block !important;position: relative;}#sk-container-id-3 div.sk-text-repr-fallback {display: none;}</style><div id=\"sk-container-id-3\" class=\"sk-top-container\"><div class=\"sk-text-repr-fallback\"><pre>RandomForestClassifier(bootstrap=False, max_depth=3, n_estimators=1, n_jobs=-1)</pre><b>In a Jupyter environment, please rerun this cell to show the HTML representation or trust the notebook. <br />On GitHub, the HTML representation is unable to render, please try loading this page with nbviewer.org.</b></div><div class=\"sk-container\" hidden><div class=\"sk-item\"><div class=\"sk-estimator sk-toggleable\"><input class=\"sk-toggleable__control sk-hidden--visually\" id=\"sk-estimator-id-3\" type=\"checkbox\" checked><label for=\"sk-estimator-id-3\" class=\"sk-toggleable__label sk-toggleable__label-arrow\">RandomForestClassifier</label><div class=\"sk-toggleable__content\"><pre>RandomForestClassifier(bootstrap=False, max_depth=3, n_estimators=1, n_jobs=-1)</pre></div></div></div></div></div>"
      ],
      "text/plain": [
       "RandomForestClassifier(bootstrap=False, max_depth=3, n_estimators=1, n_jobs=-1)"
      ]
     },
     "execution_count": 51,
     "metadata": {},
     "output_type": "execute_result"
    }
   ],
   "source": [
    "m = RandomForestClassifier(n_estimators=1, max_depth=3, bootstrap=False ,n_jobs=-1)\n",
    "%time m.fit(X_train, y_train)"
   ]
  },
  {
   "cell_type": "code",
   "execution_count": 52,
   "id": "b653efaf",
   "metadata": {},
   "outputs": [
    {
     "data": {
      "image/svg+xml": [
       "<?xml version=\"1.0\" encoding=\"UTF-8\" standalone=\"no\"?>\n",
       "<!DOCTYPE svg PUBLIC \"-//W3C//DTD SVG 1.1//EN\"\n",
       " \"http://www.w3.org/Graphics/SVG/1.1/DTD/svg11.dtd\">\n",
       "<!-- Generated by graphviz version 2.50.0 (0)\n",
       " -->\n",
       "<!-- Title: Tree Pages: 1 -->\n",
       "<svg width=\"720pt\" height=\"434pt\"\n",
       " viewBox=\"0.00 0.00 720.00 434.49\" xmlns=\"http://www.w3.org/2000/svg\" xmlns:xlink=\"http://www.w3.org/1999/xlink\">\n",
       "<g id=\"graph0\" class=\"graph\" transform=\"scale(0.78 0.78) rotate(0) translate(4 554)\">\n",
       "<title>Tree</title>\n",
       "<polygon fill=\"white\" stroke=\"transparent\" points=\"-4,4 -4,-554 920.67,-554 920.67,4 -4,4\"/>\n",
       "<!-- 0 -->\n",
       "<g id=\"node1\" class=\"node\">\n",
       "<title>0</title>\n",
       "<polygon fill=\"#f4caab\" stroke=\"black\" points=\"205.67,-336.5 11.67,-336.5 11.67,-268.5 205.67,-268.5 205.67,-336.5\"/>\n",
       "<text text-anchor=\"start\" x=\"19.67\" y=\"-321.3\" font-family=\"Helvetica,sans-Serif\" font-size=\"14.00\">num_completed_tasks ≤ 10.5</text>\n",
       "<text text-anchor=\"start\" x=\"76.67\" y=\"-306.3\" font-family=\"Helvetica,sans-Serif\" font-size=\"14.00\">gini = 0.46</text>\n",
       "<text text-anchor=\"start\" x=\"56.17\" y=\"-291.3\" font-family=\"Helvetica,sans-Serif\" font-size=\"14.00\">samples = 44590</text>\n",
       "<text text-anchor=\"start\" x=\"39.17\" y=\"-276.3\" font-family=\"Helvetica,sans-Serif\" font-size=\"14.00\">value = [28295, 16295]</text>\n",
       "</g>\n",
       "<!-- 1 -->\n",
       "<g id=\"node2\" class=\"node\">\n",
       "<title>1</title>\n",
       "<polygon fill=\"#e99355\" stroke=\"black\" points=\"445.67,-372.5 269.67,-372.5 269.67,-304.5 445.67,-304.5 445.67,-372.5\"/>\n",
       "<text text-anchor=\"start\" x=\"277.67\" y=\"-357.3\" font-family=\"Helvetica,sans-Serif\" font-size=\"14.00\">funnel_search_id ≤ 1510.5</text>\n",
       "<text text-anchor=\"start\" x=\"325.67\" y=\"-342.3\" font-family=\"Helvetica,sans-Serif\" font-size=\"14.00\">gini = 0.22</text>\n",
       "<text text-anchor=\"start\" x=\"309.17\" y=\"-327.3\" font-family=\"Helvetica,sans-Serif\" font-size=\"14.00\">samples = 5416</text>\n",
       "<text text-anchor=\"start\" x=\"299.67\" y=\"-312.3\" font-family=\"Helvetica,sans-Serif\" font-size=\"14.00\">value = [4744, 672]</text>\n",
       "</g>\n",
       "<!-- 0&#45;&gt;1 -->\n",
       "<g id=\"edge1\" class=\"edge\">\n",
       "<title>0&#45;&gt;1</title>\n",
       "<path fill=\"none\" stroke=\"black\" d=\"M205.87,-316.52C223.42,-319.08 241.75,-321.75 259.33,-324.31\"/>\n",
       "<polygon fill=\"black\" stroke=\"black\" points=\"259.19,-327.83 269.59,-325.81 260.2,-320.9 259.19,-327.83\"/>\n",
       "<text text-anchor=\"middle\" x=\"249.54\" y=\"-337.05\" font-family=\"Helvetica,sans-Serif\" font-size=\"14.00\">True</text>\n",
       "</g>\n",
       "<!-- 8 -->\n",
       "<g id=\"node9\" class=\"node\">\n",
       "<title>8</title>\n",
       "<polygon fill=\"#f6d5bc\" stroke=\"black\" points=\"435.67,-245.5 279.67,-245.5 279.67,-177.5 435.67,-177.5 435.67,-245.5\"/>\n",
       "<text text-anchor=\"start\" x=\"287.67\" y=\"-230.3\" font-family=\"Helvetica,sans-Serif\" font-size=\"14.00\">created_atWeek ≤ 38.5</text>\n",
       "<text text-anchor=\"start\" x=\"325.67\" y=\"-215.3\" font-family=\"Helvetica,sans-Serif\" font-size=\"14.00\">gini = 0.48</text>\n",
       "<text text-anchor=\"start\" x=\"305.17\" y=\"-200.3\" font-family=\"Helvetica,sans-Serif\" font-size=\"14.00\">samples = 39174</text>\n",
       "<text text-anchor=\"start\" x=\"288.17\" y=\"-185.3\" font-family=\"Helvetica,sans-Serif\" font-size=\"14.00\">value = [23551, 15623]</text>\n",
       "</g>\n",
       "<!-- 0&#45;&gt;8 -->\n",
       "<g id=\"edge8\" class=\"edge\">\n",
       "<title>0&#45;&gt;8</title>\n",
       "<path fill=\"none\" stroke=\"black\" d=\"M201.99,-268.49C224.19,-260.31 247.83,-251.6 269.78,-243.51\"/>\n",
       "<polygon fill=\"black\" stroke=\"black\" points=\"271.22,-246.71 279.4,-239.97 268.8,-240.14 271.22,-246.71\"/>\n",
       "<text text-anchor=\"middle\" x=\"256.7\" y=\"-225.79\" font-family=\"Helvetica,sans-Serif\" font-size=\"14.00\">False</text>\n",
       "</g>\n",
       "<!-- 2 -->\n",
       "<g id=\"node3\" class=\"node\">\n",
       "<title>2</title>\n",
       "<polygon fill=\"#ea985d\" stroke=\"black\" points=\"697.17,-486.5 510.17,-486.5 510.17,-418.5 697.17,-418.5 697.17,-486.5\"/>\n",
       "<text text-anchor=\"start\" x=\"518.17\" y=\"-471.3\" font-family=\"Helvetica,sans-Serif\" font-size=\"14.00\">num_completed_tasks ≤ 1.5</text>\n",
       "<text text-anchor=\"start\" x=\"571.67\" y=\"-456.3\" font-family=\"Helvetica,sans-Serif\" font-size=\"14.00\">gini = 0.26</text>\n",
       "<text text-anchor=\"start\" x=\"555.17\" y=\"-441.3\" font-family=\"Helvetica,sans-Serif\" font-size=\"14.00\">samples = 3868</text>\n",
       "<text text-anchor=\"start\" x=\"545.67\" y=\"-426.3\" font-family=\"Helvetica,sans-Serif\" font-size=\"14.00\">value = [3269, 599]</text>\n",
       "</g>\n",
       "<!-- 1&#45;&gt;2 -->\n",
       "<g id=\"edge2\" class=\"edge\">\n",
       "<title>1&#45;&gt;2</title>\n",
       "<path fill=\"none\" stroke=\"black\" d=\"M431.54,-372.55C459.55,-385.63 491.7,-400.65 520.51,-414.12\"/>\n",
       "<polygon fill=\"black\" stroke=\"black\" points=\"519.2,-417.37 529.74,-418.43 522.16,-411.03 519.2,-417.37\"/>\n",
       "</g>\n",
       "<!-- 5 -->\n",
       "<g id=\"node6\" class=\"node\">\n",
       "<title>5</title>\n",
       "<polygon fill=\"#e68743\" stroke=\"black\" points=\"697.17,-372.5 510.17,-372.5 510.17,-304.5 697.17,-304.5 697.17,-372.5\"/>\n",
       "<text text-anchor=\"start\" x=\"518.17\" y=\"-357.3\" font-family=\"Helvetica,sans-Serif\" font-size=\"14.00\">num_completed_tasks ≤ 1.5</text>\n",
       "<text text-anchor=\"start\" x=\"571.67\" y=\"-342.3\" font-family=\"Helvetica,sans-Serif\" font-size=\"14.00\">gini = 0.09</text>\n",
       "<text text-anchor=\"start\" x=\"555.17\" y=\"-327.3\" font-family=\"Helvetica,sans-Serif\" font-size=\"14.00\">samples = 1548</text>\n",
       "<text text-anchor=\"start\" x=\"549.17\" y=\"-312.3\" font-family=\"Helvetica,sans-Serif\" font-size=\"14.00\">value = [1475, 73]</text>\n",
       "</g>\n",
       "<!-- 1&#45;&gt;5 -->\n",
       "<g id=\"edge5\" class=\"edge\">\n",
       "<title>1&#45;&gt;5</title>\n",
       "<path fill=\"none\" stroke=\"black\" d=\"M445.72,-338.5C463.19,-338.5 481.71,-338.5 499.66,-338.5\"/>\n",
       "<polygon fill=\"black\" stroke=\"black\" points=\"499.86,-342 509.86,-338.5 499.86,-335 499.86,-342\"/>\n",
       "</g>\n",
       "<!-- 3 -->\n",
       "<g id=\"node4\" class=\"node\">\n",
       "<title>3</title>\n",
       "<polygon fill=\"#e78c4a\" stroke=\"black\" points=\"899.67,-550 767.67,-550 767.67,-497 899.67,-497 899.67,-550\"/>\n",
       "<text text-anchor=\"start\" x=\"801.67\" y=\"-534.8\" font-family=\"Helvetica,sans-Serif\" font-size=\"14.00\">gini = 0.14</text>\n",
       "<text text-anchor=\"start\" x=\"785.17\" y=\"-519.8\" font-family=\"Helvetica,sans-Serif\" font-size=\"14.00\">samples = 2087</text>\n",
       "<text text-anchor=\"start\" x=\"775.67\" y=\"-504.8\" font-family=\"Helvetica,sans-Serif\" font-size=\"14.00\">value = [1924, 163]</text>\n",
       "</g>\n",
       "<!-- 2&#45;&gt;3 -->\n",
       "<g id=\"edge3\" class=\"edge\">\n",
       "<title>2&#45;&gt;3</title>\n",
       "<path fill=\"none\" stroke=\"black\" d=\"M697.4,-481.38C717.55,-487.65 738.61,-494.21 757.95,-500.23\"/>\n",
       "<polygon fill=\"black\" stroke=\"black\" points=\"757.01,-503.61 767.6,-503.24 759.09,-496.92 757.01,-503.61\"/>\n",
       "</g>\n",
       "<!-- 4 -->\n",
       "<g id=\"node5\" class=\"node\">\n",
       "<title>4</title>\n",
       "<polygon fill=\"#edaa79\" stroke=\"black\" points=\"899.67,-479 767.67,-479 767.67,-426 899.67,-426 899.67,-479\"/>\n",
       "<text text-anchor=\"start\" x=\"801.67\" y=\"-463.8\" font-family=\"Helvetica,sans-Serif\" font-size=\"14.00\">gini = 0.37</text>\n",
       "<text text-anchor=\"start\" x=\"785.17\" y=\"-448.8\" font-family=\"Helvetica,sans-Serif\" font-size=\"14.00\">samples = 1781</text>\n",
       "<text text-anchor=\"start\" x=\"775.67\" y=\"-433.8\" font-family=\"Helvetica,sans-Serif\" font-size=\"14.00\">value = [1345, 436]</text>\n",
       "</g>\n",
       "<!-- 2&#45;&gt;4 -->\n",
       "<g id=\"edge4\" class=\"edge\">\n",
       "<title>2&#45;&gt;4</title>\n",
       "<path fill=\"none\" stroke=\"black\" d=\"M697.4,-452.5C717.36,-452.5 738.23,-452.5 757.42,-452.5\"/>\n",
       "<polygon fill=\"black\" stroke=\"black\" points=\"757.6,-456 767.6,-452.5 757.6,-449 757.6,-456\"/>\n",
       "</g>\n",
       "<!-- 6 -->\n",
       "<g id=\"node7\" class=\"node\">\n",
       "<title>6</title>\n",
       "<polygon fill=\"#e5833c\" stroke=\"black\" points=\"892.17,-408 775.17,-408 775.17,-355 892.17,-355 892.17,-408\"/>\n",
       "<text text-anchor=\"start\" x=\"801.67\" y=\"-392.8\" font-family=\"Helvetica,sans-Serif\" font-size=\"14.00\">gini = 0.03</text>\n",
       "<text text-anchor=\"start\" x=\"788.67\" y=\"-377.8\" font-family=\"Helvetica,sans-Serif\" font-size=\"14.00\">samples = 920</text>\n",
       "<text text-anchor=\"start\" x=\"783.17\" y=\"-362.8\" font-family=\"Helvetica,sans-Serif\" font-size=\"14.00\">value = [907, 13]</text>\n",
       "</g>\n",
       "<!-- 5&#45;&gt;6 -->\n",
       "<g id=\"edge6\" class=\"edge\">\n",
       "<title>5&#45;&gt;6</title>\n",
       "<path fill=\"none\" stroke=\"black\" d=\"M697.4,-355.99C720.07,-360.27 743.91,-364.76 765.14,-368.77\"/>\n",
       "<polygon fill=\"black\" stroke=\"black\" points=\"764.55,-372.21 775.02,-370.63 765.84,-365.34 764.55,-372.21\"/>\n",
       "</g>\n",
       "<!-- 7 -->\n",
       "<g id=\"node8\" class=\"node\">\n",
       "<title>7</title>\n",
       "<polygon fill=\"#e88e4e\" stroke=\"black\" points=\"892.17,-337 775.17,-337 775.17,-284 892.17,-284 892.17,-337\"/>\n",
       "<text text-anchor=\"start\" x=\"801.67\" y=\"-321.8\" font-family=\"Helvetica,sans-Serif\" font-size=\"14.00\">gini = 0.17</text>\n",
       "<text text-anchor=\"start\" x=\"788.67\" y=\"-306.8\" font-family=\"Helvetica,sans-Serif\" font-size=\"14.00\">samples = 628</text>\n",
       "<text text-anchor=\"start\" x=\"783.17\" y=\"-291.8\" font-family=\"Helvetica,sans-Serif\" font-size=\"14.00\">value = [568, 60]</text>\n",
       "</g>\n",
       "<!-- 5&#45;&gt;7 -->\n",
       "<g id=\"edge7\" class=\"edge\">\n",
       "<title>5&#45;&gt;7</title>\n",
       "<path fill=\"none\" stroke=\"black\" d=\"M697.4,-327.11C719.97,-324.34 743.69,-321.43 764.85,-318.83\"/>\n",
       "<polygon fill=\"black\" stroke=\"black\" points=\"765.52,-322.27 775.02,-317.58 764.67,-315.32 765.52,-322.27\"/>\n",
       "</g>\n",
       "<!-- 9 -->\n",
       "<g id=\"node10\" class=\"node\">\n",
       "<title>9</title>\n",
       "<polygon fill=\"#f9e3d3\" stroke=\"black\" points=\"681.17,-245.5 526.17,-245.5 526.17,-177.5 681.17,-177.5 681.17,-245.5\"/>\n",
       "<text text-anchor=\"start\" x=\"563.17\" y=\"-230.3\" font-family=\"Helvetica,sans-Serif\" font-size=\"14.00\">position ≤ 3.5</text>\n",
       "<text text-anchor=\"start\" x=\"571.67\" y=\"-215.3\" font-family=\"Helvetica,sans-Serif\" font-size=\"14.00\">gini = 0.49</text>\n",
       "<text text-anchor=\"start\" x=\"551.17\" y=\"-200.3\" font-family=\"Helvetica,sans-Serif\" font-size=\"14.00\">samples = 31522</text>\n",
       "<text text-anchor=\"start\" x=\"534.17\" y=\"-185.3\" font-family=\"Helvetica,sans-Serif\" font-size=\"14.00\">value = [17725, 13797]</text>\n",
       "</g>\n",
       "<!-- 8&#45;&gt;9 -->\n",
       "<g id=\"edge9\" class=\"edge\">\n",
       "<title>8&#45;&gt;9</title>\n",
       "<path fill=\"none\" stroke=\"black\" d=\"M435.87,-211.5C461.26,-211.5 489.66,-211.5 515.72,-211.5\"/>\n",
       "<polygon fill=\"black\" stroke=\"black\" points=\"515.97,-215 525.97,-211.5 515.97,-208 515.97,-215\"/>\n",
       "</g>\n",
       "<!-- 12 -->\n",
       "<g id=\"node13\" class=\"node\">\n",
       "<title>12</title>\n",
       "<polygon fill=\"#eda877\" stroke=\"black\" points=\"699.17,-131.5 508.17,-131.5 508.17,-63.5 699.17,-63.5 699.17,-131.5\"/>\n",
       "<text text-anchor=\"start\" x=\"516.17\" y=\"-116.3\" font-family=\"Helvetica,sans-Serif\" font-size=\"14.00\">created_atDayofyear ≤ 271.5</text>\n",
       "<text text-anchor=\"start\" x=\"571.67\" y=\"-101.3\" font-family=\"Helvetica,sans-Serif\" font-size=\"14.00\">gini = 0.36</text>\n",
       "<text text-anchor=\"start\" x=\"555.17\" y=\"-86.3\" font-family=\"Helvetica,sans-Serif\" font-size=\"14.00\">samples = 7652</text>\n",
       "<text text-anchor=\"start\" x=\"541.67\" y=\"-71.3\" font-family=\"Helvetica,sans-Serif\" font-size=\"14.00\">value = [5826, 1826]</text>\n",
       "</g>\n",
       "<!-- 8&#45;&gt;12 -->\n",
       "<g id=\"edge12\" class=\"edge\">\n",
       "<title>8&#45;&gt;12</title>\n",
       "<path fill=\"none\" stroke=\"black\" d=\"M431.54,-177.45C459.55,-164.37 491.7,-149.35 520.51,-135.88\"/>\n",
       "<polygon fill=\"black\" stroke=\"black\" points=\"522.16,-138.97 529.74,-131.57 519.2,-132.63 522.16,-138.97\"/>\n",
       "</g>\n",
       "<!-- 10 -->\n",
       "<g id=\"node11\" class=\"node\">\n",
       "<title>10</title>\n",
       "<polygon fill=\"#7cbeee\" stroke=\"black\" points=\"903.67,-266 763.67,-266 763.67,-213 903.67,-213 903.67,-266\"/>\n",
       "<text text-anchor=\"start\" x=\"801.67\" y=\"-250.8\" font-family=\"Helvetica,sans-Serif\" font-size=\"14.00\">gini = 0.38</text>\n",
       "<text text-anchor=\"start\" x=\"781.17\" y=\"-235.8\" font-family=\"Helvetica,sans-Serif\" font-size=\"14.00\">samples = 10995</text>\n",
       "<text text-anchor=\"start\" x=\"771.67\" y=\"-220.8\" font-family=\"Helvetica,sans-Serif\" font-size=\"14.00\">value = [2782, 8213]</text>\n",
       "</g>\n",
       "<!-- 9&#45;&gt;10 -->\n",
       "<g id=\"edge10\" class=\"edge\">\n",
       "<title>9&#45;&gt;10</title>\n",
       "<path fill=\"none\" stroke=\"black\" d=\"M681.22,-220.9C704.44,-223.75 729.98,-226.89 753.37,-229.76\"/>\n",
       "<polygon fill=\"black\" stroke=\"black\" points=\"753.25,-233.27 763.6,-231.02 754.1,-226.33 753.25,-233.27\"/>\n",
       "</g>\n",
       "<!-- 11 -->\n",
       "<g id=\"node12\" class=\"node\">\n",
       "<title>11</title>\n",
       "<polygon fill=\"#efb083\" stroke=\"black\" points=\"907.17,-195 760.17,-195 760.17,-142 907.17,-142 907.17,-195\"/>\n",
       "<text text-anchor=\"start\" x=\"805.67\" y=\"-179.8\" font-family=\"Helvetica,sans-Serif\" font-size=\"14.00\">gini = 0.4</text>\n",
       "<text text-anchor=\"start\" x=\"781.17\" y=\"-164.8\" font-family=\"Helvetica,sans-Serif\" font-size=\"14.00\">samples = 20527</text>\n",
       "<text text-anchor=\"start\" x=\"768.17\" y=\"-149.8\" font-family=\"Helvetica,sans-Serif\" font-size=\"14.00\">value = [14943, 5584]</text>\n",
       "</g>\n",
       "<!-- 9&#45;&gt;11 -->\n",
       "<g id=\"edge11\" class=\"edge\">\n",
       "<title>9&#45;&gt;11</title>\n",
       "<path fill=\"none\" stroke=\"black\" d=\"M681.22,-197.06C703.31,-192.9 727.51,-188.33 749.95,-184.1\"/>\n",
       "<polygon fill=\"black\" stroke=\"black\" points=\"750.61,-187.54 759.79,-182.24 749.31,-180.66 750.61,-187.54\"/>\n",
       "</g>\n",
       "<!-- 13 -->\n",
       "<g id=\"node14\" class=\"node\">\n",
       "<title>13</title>\n",
       "<polygon fill=\"#eeab7b\" stroke=\"black\" points=\"903.67,-124 763.67,-124 763.67,-71 903.67,-71 903.67,-124\"/>\n",
       "<text text-anchor=\"start\" x=\"801.67\" y=\"-108.8\" font-family=\"Helvetica,sans-Serif\" font-size=\"14.00\">gini = 0.38</text>\n",
       "<text text-anchor=\"start\" x=\"785.17\" y=\"-93.8\" font-family=\"Helvetica,sans-Serif\" font-size=\"14.00\">samples = 5600</text>\n",
       "<text text-anchor=\"start\" x=\"771.67\" y=\"-78.8\" font-family=\"Helvetica,sans-Serif\" font-size=\"14.00\">value = [4198, 1402]</text>\n",
       "</g>\n",
       "<!-- 12&#45;&gt;13 -->\n",
       "<g id=\"edge13\" class=\"edge\">\n",
       "<title>12&#45;&gt;13</title>\n",
       "<path fill=\"none\" stroke=\"black\" d=\"M699.38,-97.5C717.38,-97.5 736.04,-97.5 753.5,-97.5\"/>\n",
       "<polygon fill=\"black\" stroke=\"black\" points=\"753.62,-101 763.62,-97.5 753.62,-94 753.62,-101\"/>\n",
       "</g>\n",
       "<!-- 14 -->\n",
       "<g id=\"node15\" class=\"node\">\n",
       "<title>14</title>\n",
       "<polygon fill=\"#eca26d\" stroke=\"black\" points=\"899.67,-53 767.67,-53 767.67,0 899.67,0 899.67,-53\"/>\n",
       "<text text-anchor=\"start\" x=\"801.67\" y=\"-37.8\" font-family=\"Helvetica,sans-Serif\" font-size=\"14.00\">gini = 0.33</text>\n",
       "<text text-anchor=\"start\" x=\"785.17\" y=\"-22.8\" font-family=\"Helvetica,sans-Serif\" font-size=\"14.00\">samples = 2052</text>\n",
       "<text text-anchor=\"start\" x=\"775.67\" y=\"-7.8\" font-family=\"Helvetica,sans-Serif\" font-size=\"14.00\">value = [1628, 424]</text>\n",
       "</g>\n",
       "<!-- 12&#45;&gt;14 -->\n",
       "<g id=\"edge14\" class=\"edge\">\n",
       "<title>12&#45;&gt;14</title>\n",
       "<path fill=\"none\" stroke=\"black\" d=\"M699.38,-68.01C718.86,-61.94 739.12,-55.63 757.78,-49.82\"/>\n",
       "<polygon fill=\"black\" stroke=\"black\" points=\"758.88,-53.14 767.39,-46.83 756.8,-46.46 758.88,-53.14\"/>\n",
       "</g>\n",
       "</g>\n",
       "</svg>\n"
      ],
      "text/plain": [
       "<graphviz.sources.Source at 0x19ce6304340>"
      ]
     },
     "metadata": {},
     "output_type": "display_data"
    }
   ],
   "source": [
    "# lowest splits to largest splits, we tried every variable and every possible split \n",
    "# and find variable with max mse \n",
    "draw_tree(m.estimators_[0], X_train, precision=2)"
   ]
  },
  {
   "cell_type": "markdown",
   "id": "b74df198",
   "metadata": {},
   "source": [
    "#### Model selection"
   ]
  },
  {
   "cell_type": "code",
   "execution_count": 53,
   "id": "757cfea4",
   "metadata": {},
   "outputs": [],
   "source": [
    "# Intialization of classifier \n",
    "classifiers =[]\n",
    "model1 = LogisticRegression()\n",
    "classifiers.append(model1)\n",
    "model2 = SVC()\n",
    "classifiers.append(model2)\n",
    "model3 = DecisionTreeClassifier()\n",
    "classifiers.append(model3)\n",
    "model4 = RandomForestClassifier()\n",
    "classifiers.append(model4)\n",
    "model5 = AdaBoostClassifier()\n",
    "classifiers.append(model5)"
   ]
  },
  {
   "cell_type": "code",
   "execution_count": 54,
   "id": "6e43e128",
   "metadata": {},
   "outputs": [],
   "source": [
    "# List of models \n",
    "model_name = ['LogisticRegression','Support Vector Machine','DecisionTreeClassifier','RandomForestClassifier','AdaBoostClassifier']\n",
    "Training_score ,Testing_score,TP,FP,FN,Precision,Recall,classifiers_list = [],[],[],[],[],[],[],[]"
   ]
  },
  {
   "cell_type": "markdown",
   "id": "6430fdc7",
   "metadata": {},
   "source": [
    "For measuring the performance of the models, choosing Precision and recall."
   ]
  },
  {
   "cell_type": "code",
   "execution_count": 55,
   "id": "94665e72",
   "metadata": {
    "scrolled": true
   },
   "outputs": [
    {
     "name": "stdout",
     "output_type": "stream",
     "text": [
      "CPU times: total: 0 ns\n",
      "Wall time: 0 ns\n"
     ]
    }
   ],
   "source": [
    "# Running for differnent classifier and Save scores for different classfiers into model\n",
    "for i in range(0,len(classifiers)):\n",
    "    clf = classifiers[i]\n",
    "    clf.fit(X_train,y_train)\n",
    "    y_pred = clf.predict(X_valid)\n",
    "    cm = confusion_matrix(y_valid, y_pred)\n",
    "    classifiers_list.append(model_name[i])\n",
    "    Training_score.append(clf.score(X_train,y_train))\n",
    "    Testing_score.append(clf.score(X_valid,y_valid))\n",
    "    TP.append(cm[1][1])\n",
    "    FP.append(cm[0][1])\n",
    "    FN.append(cm[1][0])\n",
    "    Precision.append( precision_score(y_valid,y_pred))\n",
    "    Recall.append(recall_score(y_valid,y_pred))\n",
    "       \n",
    "Score_DF = pd.DataFrame()\n",
    "Score_DF['classifiers'] = classifiers_list\n",
    "Score_DF['Training_score'] = Training_score\n",
    "Score_DF['Testing_score'] = Testing_score\n",
    "Score_DF['True_positive'] = TP\n",
    "Score_DF['False_positive'] = FP\n",
    "Score_DF['False_negative'] = FN\n",
    "Score_DF['Precision'] = Precision\n",
    "Score_DF['Recall'] = Recall\n",
    "%time"
   ]
  },
  {
   "cell_type": "code",
   "execution_count": 56,
   "id": "e9b6d0e8",
   "metadata": {},
   "outputs": [
    {
     "data": {
      "text/html": [
       "<div>\n",
       "<style scoped>\n",
       "    .dataframe tbody tr th:only-of-type {\n",
       "        vertical-align: middle;\n",
       "    }\n",
       "\n",
       "    .dataframe tbody tr th {\n",
       "        vertical-align: top;\n",
       "    }\n",
       "\n",
       "    .dataframe thead th {\n",
       "        text-align: right;\n",
       "    }\n",
       "</style>\n",
       "<table border=\"1\" class=\"dataframe\">\n",
       "  <thead>\n",
       "    <tr style=\"text-align: right;\">\n",
       "      <th></th>\n",
       "      <th>classifiers</th>\n",
       "      <th>Training_score</th>\n",
       "      <th>Testing_score</th>\n",
       "      <th>True_positive</th>\n",
       "      <th>False_positive</th>\n",
       "      <th>False_negative</th>\n",
       "      <th>Precision</th>\n",
       "      <th>Recall</th>\n",
       "    </tr>\n",
       "  </thead>\n",
       "  <tbody>\n",
       "    <tr>\n",
       "      <th>0</th>\n",
       "      <td>LogisticRegression</td>\n",
       "      <td>0.634559</td>\n",
       "      <td>0.000000</td>\n",
       "      <td>0</td>\n",
       "      <td>0</td>\n",
       "      <td>12000</td>\n",
       "      <td>0.0</td>\n",
       "      <td>0.000000</td>\n",
       "    </tr>\n",
       "    <tr>\n",
       "      <th>1</th>\n",
       "      <td>Support Vector Machine</td>\n",
       "      <td>0.634559</td>\n",
       "      <td>0.000000</td>\n",
       "      <td>0</td>\n",
       "      <td>0</td>\n",
       "      <td>12000</td>\n",
       "      <td>0.0</td>\n",
       "      <td>0.000000</td>\n",
       "    </tr>\n",
       "    <tr>\n",
       "      <th>2</th>\n",
       "      <td>DecisionTreeClassifier</td>\n",
       "      <td>0.999978</td>\n",
       "      <td>0.931917</td>\n",
       "      <td>11183</td>\n",
       "      <td>0</td>\n",
       "      <td>817</td>\n",
       "      <td>1.0</td>\n",
       "      <td>0.931917</td>\n",
       "    </tr>\n",
       "    <tr>\n",
       "      <th>3</th>\n",
       "      <td>RandomForestClassifier</td>\n",
       "      <td>0.999978</td>\n",
       "      <td>0.967500</td>\n",
       "      <td>11610</td>\n",
       "      <td>0</td>\n",
       "      <td>390</td>\n",
       "      <td>1.0</td>\n",
       "      <td>0.967500</td>\n",
       "    </tr>\n",
       "    <tr>\n",
       "      <th>4</th>\n",
       "      <td>AdaBoostClassifier</td>\n",
       "      <td>0.814689</td>\n",
       "      <td>0.708000</td>\n",
       "      <td>8496</td>\n",
       "      <td>0</td>\n",
       "      <td>3504</td>\n",
       "      <td>1.0</td>\n",
       "      <td>0.708000</td>\n",
       "    </tr>\n",
       "  </tbody>\n",
       "</table>\n",
       "</div>"
      ],
      "text/plain": [
       "              classifiers  Training_score  Testing_score  True_positive  \\\n",
       "0      LogisticRegression        0.634559       0.000000              0   \n",
       "1  Support Vector Machine        0.634559       0.000000              0   \n",
       "2  DecisionTreeClassifier        0.999978       0.931917          11183   \n",
       "3  RandomForestClassifier        0.999978       0.967500          11610   \n",
       "4      AdaBoostClassifier        0.814689       0.708000           8496   \n",
       "\n",
       "   False_positive  False_negative  Precision    Recall  \n",
       "0               0           12000        0.0  0.000000  \n",
       "1               0           12000        0.0  0.000000  \n",
       "2               0             817        1.0  0.931917  \n",
       "3               0             390        1.0  0.967500  \n",
       "4               0            3504        1.0  0.708000  "
      ]
     },
     "execution_count": 56,
     "metadata": {},
     "output_type": "execute_result"
    }
   ],
   "source": [
    "Score_DF"
   ]
  },
  {
   "cell_type": "markdown",
   "id": "fcbc5859",
   "metadata": {},
   "source": [
    "From above matrix we can see RandomForestClassifier works best for this scenario that proves our assumptions, we can get better results adding more data, features and tuning the hyperparameters."
   ]
  },
  {
   "cell_type": "markdown",
   "id": "e6bb6077",
   "metadata": {},
   "source": [
    "#### From Analysing the features from the spreadsheet, we can see below observations:\n",
    "1. Target variable - Hired is dependent on features in the order of position in the recommendation set, number of completed tasks, hourly rate, hour of the day, day of the week etc. \n",
    "2. Decision of Hire is more observed in these criteria: \n",
    "   a. tasker has more number of tasks completed prior to recommendation\n",
    "   b. tasker has a lower hourly rate\n",
    "   c. tasker's position in recommendation set is as early as possible\n",
    "   \n",
    "#### In order to successfully predict if the tasker is going to be hired:\n",
    "keep adding more features into the model to get better performance, for example:\n",
    "1. what is the rating the tasker got after the finished the job and average rating\n",
    "2. how is the user experience with the tasker\n",
    "3. how many times tasker have been added to job and cancelled.\n",
    "4. what is the tenure of the tasker"
   ]
  },
  {
   "cell_type": "code",
   "execution_count": null,
   "id": "f0dede39",
   "metadata": {},
   "outputs": [],
   "source": []
  }
 ],
 "metadata": {
  "kernelspec": {
   "display_name": "Python 3 (ipykernel)",
   "language": "python",
   "name": "python3"
  },
  "language_info": {
   "codemirror_mode": {
    "name": "ipython",
    "version": 3
   },
   "file_extension": ".py",
   "mimetype": "text/x-python",
   "name": "python",
   "nbconvert_exporter": "python",
   "pygments_lexer": "ipython3",
   "version": "3.9.12"
  }
 },
 "nbformat": 4,
 "nbformat_minor": 5
}
